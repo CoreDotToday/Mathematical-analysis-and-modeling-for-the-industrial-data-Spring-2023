{
 "cells": [
  {
   "cell_type": "markdown",
   "metadata": {
    "id": "JooJ7cGP5HMS"
   },
   "source": [
    "[![Open In Colab](https://colab.research.google.com/assets/colab-badge.svg)](https://colab.research.google.com/github/corazzon/finance-data-analysis/blob/main/3.1%20FinanceDataReader%EB%A5%BC%20%ED%86%B5%ED%95%9C%20%EA%B0%9C%EB%B3%84%EC%A2%85%EB%AA%A9%20%EC%88%98%EC%A7%91%ED%95%98%EA%B8%B0-output.ipynb)\n",
    "\n",
    "## 라이브러리 불러오기"
   ]
  },
  {
   "cell_type": "markdown",
   "metadata": {},
   "source": [
    "- https://github.com/corazzon/finance-data-analysis/blob/main/3.1%20FinanceDataReader%EB%A5%BC%20%ED%86%B5%ED%95%9C%20%EA%B0%9C%EB%B3%84%EC%A2%85%EB%AA%A9%20%EC%88%98%EC%A7%91%ED%95%98%EA%B8%B0-output.ipynb\n",
    "\n",
    "- https://github.com/corazzon/finance-data-analysis/blob/main/2.2.%20KRX%20%EC%A0%84%EC%B2%B4%20%EC%A2%85%EB%AA%A9%EB%B6%84%EC%84%9D-output.ipynb"
   ]
  },
  {
   "cell_type": "code",
   "execution_count": 1,
   "metadata": {
    "execution": {
     "iopub.execute_input": "2023-03-06T09:34:10.064957Z",
     "iopub.status.busy": "2023-03-06T09:34:10.064605Z",
     "iopub.status.idle": "2023-03-06T09:34:10.380128Z",
     "shell.execute_reply": "2023-03-06T09:34:10.376802Z",
     "shell.execute_reply.started": "2023-03-06T09:34:10.064912Z"
    },
    "id": "0HuA8Gtr5HMT",
    "tags": []
   },
   "outputs": [],
   "source": [
    "# 데이터 분석을 위해 pandas 불러오기\n",
    "import pandas as pd"
   ]
  },
  {
   "cell_type": "markdown",
   "metadata": {
    "id": "yx1gbnsI5HMQ"
   },
   "source": [
    "* [FinanceData/FinanceDataReader: Financial data reader](https://github.com/FinanceData/FinanceDataReader)\n",
    "* [FinanceDataReader 사용자 안내서 | FinanceData](https://financedata.github.io/posts/finance-data-reader-users-guide.html)"
   ]
  },
  {
   "cell_type": "code",
   "execution_count": 2,
   "metadata": {
    "execution": {
     "iopub.execute_input": "2023-03-06T09:34:10.383582Z",
     "iopub.status.busy": "2023-03-06T09:34:10.383083Z",
     "iopub.status.idle": "2023-03-06T09:34:13.759683Z",
     "shell.execute_reply": "2023-03-06T09:34:13.757810Z",
     "shell.execute_reply.started": "2023-03-06T09:34:10.383557Z"
    },
    "id": "Szu-zewh5HMR",
    "tags": []
   },
   "outputs": [
    {
     "name": "stdout",
     "output_type": "stream",
     "text": [
      "Requirement already satisfied: finance-datareader in /opt/conda/lib/python3.10/site-packages (0.9.50)\n",
      "Requirement already satisfied: lxml in /opt/conda/lib/python3.10/site-packages (from finance-datareader) (4.9.2)\n",
      "Requirement already satisfied: requests>=2.3.0 in /opt/conda/lib/python3.10/site-packages (from finance-datareader) (2.28.2)\n",
      "Requirement already satisfied: pandas>=0.19.2 in /opt/conda/lib/python3.10/site-packages (from finance-datareader) (1.5.3)\n",
      "Requirement already satisfied: requests-file in /opt/conda/lib/python3.10/site-packages (from finance-datareader) (1.5.1)\n",
      "Requirement already satisfied: tqdm in /opt/conda/lib/python3.10/site-packages (from finance-datareader) (4.64.1)\n",
      "Requirement already satisfied: python-dateutil>=2.8.1 in /opt/conda/lib/python3.10/site-packages (from pandas>=0.19.2->finance-datareader) (2.8.2)\n",
      "Requirement already satisfied: pytz>=2020.1 in /opt/conda/lib/python3.10/site-packages (from pandas>=0.19.2->finance-datareader) (2022.7.1)\n",
      "Requirement already satisfied: numpy>=1.21.0 in /opt/conda/lib/python3.10/site-packages (from pandas>=0.19.2->finance-datareader) (1.23.5)\n",
      "Requirement already satisfied: certifi>=2017.4.17 in /opt/conda/lib/python3.10/site-packages (from requests>=2.3.0->finance-datareader) (2022.12.7)\n",
      "Requirement already satisfied: charset-normalizer<4,>=2 in /opt/conda/lib/python3.10/site-packages (from requests>=2.3.0->finance-datareader) (2.1.1)\n",
      "Requirement already satisfied: idna<4,>=2.5 in /opt/conda/lib/python3.10/site-packages (from requests>=2.3.0->finance-datareader) (3.4)\n",
      "Requirement already satisfied: urllib3<1.27,>=1.21.1 in /opt/conda/lib/python3.10/site-packages (from requests>=2.3.0->finance-datareader) (1.26.14)\n",
      "Requirement already satisfied: six in /opt/conda/lib/python3.10/site-packages (from requests-file->finance-datareader) (1.16.0)\n",
      "\u001b[33mWARNING: Running pip as the 'root' user can result in broken permissions and conflicting behaviour with the system package manager. It is recommended to use a virtual environment instead: https://pip.pypa.io/warnings/venv\u001b[0m\u001b[33m\n",
      "\u001b[0m"
     ]
    }
   ],
   "source": [
    "# colab 을 사용한다면 런타임이 초기화 될때마다 다시 설치해 주어야 합니다.\n",
    "# 로컬 컴퓨터에 설치했다면 이전에 설치된 라이브러리를 사용해 주시면 됩니다.\n",
    "!pip install -U finance-datareader"
   ]
  },
  {
   "cell_type": "code",
   "execution_count": 3,
   "metadata": {
    "execution": {
     "iopub.execute_input": "2023-03-06T09:34:13.762677Z",
     "iopub.status.busy": "2023-03-06T09:34:13.762115Z",
     "iopub.status.idle": "2023-03-06T09:34:13.927683Z",
     "shell.execute_reply": "2023-03-06T09:34:13.926870Z",
     "shell.execute_reply.started": "2023-03-06T09:34:13.762618Z"
    },
    "id": "RmRqR4HT5HMT",
    "tags": []
   },
   "outputs": [
    {
     "data": {
      "text/plain": [
       "'0.9.50'"
      ]
     },
     "execution_count": 3,
     "metadata": {},
     "output_type": "execute_result"
    }
   ],
   "source": [
    "# FinanceDataReader 를 fdr 별칭으로 가져오기\n",
    "import FinanceDataReader as fdr\n",
    "fdr.__version__"
   ]
  },
  {
   "cell_type": "markdown",
   "metadata": {},
   "source": [
    "## 한국거래소 상장종목 전체 가져오기"
   ]
  },
  {
   "cell_type": "code",
   "execution_count": 4,
   "metadata": {
    "execution": {
     "iopub.execute_input": "2023-03-06T09:34:13.933527Z",
     "iopub.status.busy": "2023-03-06T09:34:13.933216Z",
     "iopub.status.idle": "2023-03-06T09:34:13.937372Z",
     "shell.execute_reply": "2023-03-06T09:34:13.936439Z",
     "shell.execute_reply.started": "2023-03-06T09:34:13.933505Z"
    },
    "tags": []
   },
   "outputs": [],
   "source": [
    "# 도움말을 보고자 할때는 ? 를 사용하고 소스코드를 볼 때는 ??를 사용합니다.\n",
    "# 주피터 노트북에서는 함수나 메소드의 괄호 안에서 shift + tab 키를 누르면 도움말을 볼 수 있습니다.\n",
    "\n",
    "# fdr.StockListing??"
   ]
  },
  {
   "cell_type": "code",
   "execution_count": 5,
   "metadata": {
    "execution": {
     "iopub.execute_input": "2023-03-06T09:34:13.939640Z",
     "iopub.status.busy": "2023-03-06T09:34:13.938991Z",
     "iopub.status.idle": "2023-03-06T09:34:14.577237Z",
     "shell.execute_reply": "2023-03-06T09:34:14.575987Z",
     "shell.execute_reply.started": "2023-03-06T09:34:13.939589Z"
    },
    "tags": []
   },
   "outputs": [],
   "source": [
    "# KRX : KRX 종목 전체\n",
    "# KOSPI : KOSPI 종목\n",
    "# KOSDAQ : KOSDAQ 종목\n",
    "# KONEX : KONEX 종목\n",
    "# NASDAQ : 나스닥 종목\n",
    "# NYSE : 뉴욕증권거래소 종목\n",
    "# SP500 : S&P500 종목\n",
    "df_krx = fdr.StockListing(\"KRX\")"
   ]
  },
  {
   "cell_type": "code",
   "execution_count": 6,
   "metadata": {
    "execution": {
     "iopub.execute_input": "2023-03-06T09:34:14.578725Z",
     "iopub.status.busy": "2023-03-06T09:34:14.578419Z",
     "iopub.status.idle": "2023-03-06T09:34:14.583077Z",
     "shell.execute_reply": "2023-03-06T09:34:14.582094Z",
     "shell.execute_reply.started": "2023-03-06T09:34:14.578695Z"
    },
    "tags": []
   },
   "outputs": [],
   "source": [
    "# 가끔 한국거래소에 서버점검 등의 이슈가 있어 fdr.StockListing 으로 상장종목을 받아오지 못할 때가 있습니다.\n",
    "# 그럴 때는 아래의 주석을 해제하고 실습해 주세요!\n",
    "# df_krx = pd.read_csv(\"https://raw.githubusercontent.com/corazzon/finance-data-analysis/main/krx.csv\")"
   ]
  },
  {
   "cell_type": "code",
   "execution_count": 7,
   "metadata": {
    "execution": {
     "iopub.execute_input": "2023-03-06T09:34:14.585339Z",
     "iopub.status.busy": "2023-03-06T09:34:14.584957Z",
     "iopub.status.idle": "2023-03-06T09:34:14.619458Z",
     "shell.execute_reply": "2023-03-06T09:34:14.618597Z",
     "shell.execute_reply.started": "2023-03-06T09:34:14.585308Z"
    },
    "tags": []
   },
   "outputs": [
    {
     "data": {
      "text/html": [
       "<div>\n",
       "<style scoped>\n",
       "    .dataframe tbody tr th:only-of-type {\n",
       "        vertical-align: middle;\n",
       "    }\n",
       "\n",
       "    .dataframe tbody tr th {\n",
       "        vertical-align: top;\n",
       "    }\n",
       "\n",
       "    .dataframe thead th {\n",
       "        text-align: right;\n",
       "    }\n",
       "</style>\n",
       "<table border=\"1\" class=\"dataframe\">\n",
       "  <thead>\n",
       "    <tr style=\"text-align: right;\">\n",
       "      <th></th>\n",
       "      <th>Code</th>\n",
       "      <th>ISU_CD</th>\n",
       "      <th>Name</th>\n",
       "      <th>Market</th>\n",
       "      <th>Dept</th>\n",
       "      <th>Close</th>\n",
       "      <th>ChangeCode</th>\n",
       "      <th>Changes</th>\n",
       "      <th>ChagesRatio</th>\n",
       "      <th>Open</th>\n",
       "      <th>High</th>\n",
       "      <th>Low</th>\n",
       "      <th>Volume</th>\n",
       "      <th>Amount</th>\n",
       "      <th>Marcap</th>\n",
       "      <th>Stocks</th>\n",
       "      <th>MarketId</th>\n",
       "    </tr>\n",
       "  </thead>\n",
       "  <tbody>\n",
       "    <tr>\n",
       "      <th>0</th>\n",
       "      <td>005930</td>\n",
       "      <td>KR7005930003</td>\n",
       "      <td>삼성전자</td>\n",
       "      <td>KOSPI</td>\n",
       "      <td></td>\n",
       "      <td>61500</td>\n",
       "      <td>1</td>\n",
       "      <td>1000</td>\n",
       "      <td>1.65</td>\n",
       "      <td>61100</td>\n",
       "      <td>61600</td>\n",
       "      <td>60800</td>\n",
       "      <td>13630602</td>\n",
       "      <td>835007952600</td>\n",
       "      <td>367141626825000</td>\n",
       "      <td>5969782550</td>\n",
       "      <td>STK</td>\n",
       "    </tr>\n",
       "    <tr>\n",
       "      <th>1</th>\n",
       "      <td>373220</td>\n",
       "      <td>KR7373220003</td>\n",
       "      <td>LG에너지솔루션</td>\n",
       "      <td>KOSPI</td>\n",
       "      <td></td>\n",
       "      <td>547000</td>\n",
       "      <td>1</td>\n",
       "      <td>9000</td>\n",
       "      <td>1.67</td>\n",
       "      <td>545000</td>\n",
       "      <td>547000</td>\n",
       "      <td>533000</td>\n",
       "      <td>418951</td>\n",
       "      <td>226937278000</td>\n",
       "      <td>127998000000000</td>\n",
       "      <td>234000000</td>\n",
       "      <td>STK</td>\n",
       "    </tr>\n",
       "    <tr>\n",
       "      <th>2</th>\n",
       "      <td>000660</td>\n",
       "      <td>KR7000660001</td>\n",
       "      <td>SK하이닉스</td>\n",
       "      <td>KOSPI</td>\n",
       "      <td></td>\n",
       "      <td>89700</td>\n",
       "      <td>1</td>\n",
       "      <td>2400</td>\n",
       "      <td>2.75</td>\n",
       "      <td>87900</td>\n",
       "      <td>89800</td>\n",
       "      <td>87500</td>\n",
       "      <td>2374415</td>\n",
       "      <td>211094486100</td>\n",
       "      <td>65301812140500</td>\n",
       "      <td>728002365</td>\n",
       "      <td>STK</td>\n",
       "    </tr>\n",
       "    <tr>\n",
       "      <th>3</th>\n",
       "      <td>207940</td>\n",
       "      <td>KR7207940008</td>\n",
       "      <td>삼성바이오로직스</td>\n",
       "      <td>KOSPI</td>\n",
       "      <td></td>\n",
       "      <td>801000</td>\n",
       "      <td>1</td>\n",
       "      <td>13000</td>\n",
       "      <td>1.65</td>\n",
       "      <td>791000</td>\n",
       "      <td>804000</td>\n",
       "      <td>791000</td>\n",
       "      <td>73227</td>\n",
       "      <td>58490953337</td>\n",
       "      <td>57010374000000</td>\n",
       "      <td>71174000</td>\n",
       "      <td>STK</td>\n",
       "    </tr>\n",
       "    <tr>\n",
       "      <th>4</th>\n",
       "      <td>006400</td>\n",
       "      <td>KR7006400006</td>\n",
       "      <td>삼성SDI</td>\n",
       "      <td>KOSPI</td>\n",
       "      <td></td>\n",
       "      <td>781000</td>\n",
       "      <td>1</td>\n",
       "      <td>50000</td>\n",
       "      <td>6.84</td>\n",
       "      <td>748000</td>\n",
       "      <td>781000</td>\n",
       "      <td>743000</td>\n",
       "      <td>754225</td>\n",
       "      <td>575119030000</td>\n",
       "      <td>53705097930000</td>\n",
       "      <td>68764530</td>\n",
       "      <td>STK</td>\n",
       "    </tr>\n",
       "  </tbody>\n",
       "</table>\n",
       "</div>"
      ],
      "text/plain": [
       "     Code        ISU_CD      Name Market Dept   Close ChangeCode  Changes  \\\n",
       "0  005930  KR7005930003      삼성전자  KOSPI        61500          1     1000   \n",
       "1  373220  KR7373220003  LG에너지솔루션  KOSPI       547000          1     9000   \n",
       "2  000660  KR7000660001    SK하이닉스  KOSPI        89700          1     2400   \n",
       "3  207940  KR7207940008  삼성바이오로직스  KOSPI       801000          1    13000   \n",
       "4  006400  KR7006400006     삼성SDI  KOSPI       781000          1    50000   \n",
       "\n",
       "   ChagesRatio    Open    High     Low    Volume        Amount  \\\n",
       "0         1.65   61100   61600   60800  13630602  835007952600   \n",
       "1         1.67  545000  547000  533000    418951  226937278000   \n",
       "2         2.75   87900   89800   87500   2374415  211094486100   \n",
       "3         1.65  791000  804000  791000     73227   58490953337   \n",
       "4         6.84  748000  781000  743000    754225  575119030000   \n",
       "\n",
       "            Marcap      Stocks MarketId  \n",
       "0  367141626825000  5969782550      STK  \n",
       "1  127998000000000   234000000      STK  \n",
       "2   65301812140500   728002365      STK  \n",
       "3   57010374000000    71174000      STK  \n",
       "4   53705097930000    68764530      STK  "
      ]
     },
     "execution_count": 7,
     "metadata": {},
     "output_type": "execute_result"
    }
   ],
   "source": [
    "# 한국거래소 상장종목 전체 가져오기\n",
    "df_krx.head()"
   ]
  },
  {
   "cell_type": "code",
   "execution_count": 8,
   "metadata": {
    "execution": {
     "iopub.execute_input": "2023-03-06T09:34:14.621069Z",
     "iopub.status.busy": "2023-03-06T09:34:14.620667Z",
     "iopub.status.idle": "2023-03-06T09:34:14.626986Z",
     "shell.execute_reply": "2023-03-06T09:34:14.626084Z",
     "shell.execute_reply.started": "2023-03-06T09:34:14.621039Z"
    },
    "tags": []
   },
   "outputs": [
    {
     "data": {
      "text/plain": [
       "(2703, 17)"
      ]
     },
     "execution_count": 8,
     "metadata": {},
     "output_type": "execute_result"
    }
   ],
   "source": [
    "# 행과 열의 크기를 봅니다.(행, 열) 순\n",
    "df_krx.shape"
   ]
  },
  {
   "cell_type": "code",
   "execution_count": 9,
   "metadata": {
    "execution": {
     "iopub.execute_input": "2023-03-06T09:34:14.628878Z",
     "iopub.status.busy": "2023-03-06T09:34:14.628577Z",
     "iopub.status.idle": "2023-03-06T09:34:14.648085Z",
     "shell.execute_reply": "2023-03-06T09:34:14.647079Z",
     "shell.execute_reply.started": "2023-03-06T09:34:14.628848Z"
    },
    "tags": []
   },
   "outputs": [
    {
     "name": "stdout",
     "output_type": "stream",
     "text": [
      "<class 'pandas.core.frame.DataFrame'>\n",
      "RangeIndex: 2703 entries, 0 to 2702\n",
      "Data columns (total 17 columns):\n",
      " #   Column       Non-Null Count  Dtype  \n",
      "---  ------       --------------  -----  \n",
      " 0   Code         2703 non-null   object \n",
      " 1   ISU_CD       2703 non-null   object \n",
      " 2   Name         2703 non-null   object \n",
      " 3   Market       2703 non-null   object \n",
      " 4   Dept         2703 non-null   object \n",
      " 5   Close        2703 non-null   object \n",
      " 6   ChangeCode   2703 non-null   object \n",
      " 7   Changes      2703 non-null   int64  \n",
      " 8   ChagesRatio  2703 non-null   float64\n",
      " 9   Open         2703 non-null   int64  \n",
      " 10  High         2703 non-null   int64  \n",
      " 11  Low          2703 non-null   int64  \n",
      " 12  Volume       2703 non-null   int64  \n",
      " 13  Amount       2703 non-null   int64  \n",
      " 14  Marcap       2703 non-null   int64  \n",
      " 15  Stocks       2703 non-null   int64  \n",
      " 16  MarketId     2703 non-null   object \n",
      "dtypes: float64(1), int64(8), object(8)\n",
      "memory usage: 359.1+ KB\n"
     ]
    }
   ],
   "source": [
    "# 전체 데이터프레임의 요약정보를 봅니다.\n",
    "df_krx.info()"
   ]
  },
  {
   "cell_type": "code",
   "execution_count": 10,
   "metadata": {
    "execution": {
     "iopub.execute_input": "2023-03-06T09:34:14.811025Z",
     "iopub.status.busy": "2023-03-06T09:34:14.810719Z",
     "iopub.status.idle": "2023-03-06T09:34:14.855026Z",
     "shell.execute_reply": "2023-03-06T09:34:14.854298Z",
     "shell.execute_reply.started": "2023-03-06T09:34:14.810995Z"
    },
    "tags": []
   },
   "outputs": [
    {
     "data": {
      "text/html": [
       "<div>\n",
       "<style scoped>\n",
       "    .dataframe tbody tr th:only-of-type {\n",
       "        vertical-align: middle;\n",
       "    }\n",
       "\n",
       "    .dataframe tbody tr th {\n",
       "        vertical-align: top;\n",
       "    }\n",
       "\n",
       "    .dataframe thead th {\n",
       "        text-align: right;\n",
       "    }\n",
       "</style>\n",
       "<table border=\"1\" class=\"dataframe\">\n",
       "  <thead>\n",
       "    <tr style=\"text-align: right;\">\n",
       "      <th></th>\n",
       "      <th>Changes</th>\n",
       "      <th>ChagesRatio</th>\n",
       "      <th>Open</th>\n",
       "      <th>High</th>\n",
       "      <th>Low</th>\n",
       "      <th>Volume</th>\n",
       "      <th>Amount</th>\n",
       "      <th>Marcap</th>\n",
       "      <th>Stocks</th>\n",
       "    </tr>\n",
       "  </thead>\n",
       "  <tbody>\n",
       "    <tr>\n",
       "      <th>count</th>\n",
       "      <td>2703.000000</td>\n",
       "      <td>2703.000000</td>\n",
       "      <td>2703.000000</td>\n",
       "      <td>2703.000000</td>\n",
       "      <td>2703.000000</td>\n",
       "      <td>2.703000e+03</td>\n",
       "      <td>2.703000e+03</td>\n",
       "      <td>2.703000e+03</td>\n",
       "      <td>2.703000e+03</td>\n",
       "    </tr>\n",
       "    <tr>\n",
       "      <th>mean</th>\n",
       "      <td>147.721051</td>\n",
       "      <td>0.589504</td>\n",
       "      <td>21521.464669</td>\n",
       "      <td>21859.458750</td>\n",
       "      <td>21088.466889</td>\n",
       "      <td>5.659129e+05</td>\n",
       "      <td>8.245806e+09</td>\n",
       "      <td>8.637367e+11</td>\n",
       "      <td>4.211697e+07</td>\n",
       "    </tr>\n",
       "    <tr>\n",
       "      <th>std</th>\n",
       "      <td>1716.752360</td>\n",
       "      <td>3.564455</td>\n",
       "      <td>56997.643190</td>\n",
       "      <td>57713.141306</td>\n",
       "      <td>55938.000237</td>\n",
       "      <td>2.335815e+06</td>\n",
       "      <td>4.821810e+10</td>\n",
       "      <td>8.113375e+12</td>\n",
       "      <td>1.366899e+08</td>\n",
       "    </tr>\n",
       "    <tr>\n",
       "      <th>min</th>\n",
       "      <td>-15400.000000</td>\n",
       "      <td>-29.950000</td>\n",
       "      <td>0.000000</td>\n",
       "      <td>0.000000</td>\n",
       "      <td>0.000000</td>\n",
       "      <td>0.000000e+00</td>\n",
       "      <td>0.000000e+00</td>\n",
       "      <td>9.014449e+08</td>\n",
       "      <td>1.098520e+05</td>\n",
       "    </tr>\n",
       "    <tr>\n",
       "      <th>25%</th>\n",
       "      <td>-45.000000</td>\n",
       "      <td>-0.780000</td>\n",
       "      <td>2827.500000</td>\n",
       "      <td>2882.500000</td>\n",
       "      <td>2770.000000</td>\n",
       "      <td>2.505100e+04</td>\n",
       "      <td>1.527569e+08</td>\n",
       "      <td>6.148754e+10</td>\n",
       "      <td>9.917994e+06</td>\n",
       "    </tr>\n",
       "    <tr>\n",
       "      <th>50%</th>\n",
       "      <td>0.000000</td>\n",
       "      <td>0.000000</td>\n",
       "      <td>6900.000000</td>\n",
       "      <td>7070.000000</td>\n",
       "      <td>6770.000000</td>\n",
       "      <td>9.641300e+04</td>\n",
       "      <td>5.938960e+08</td>\n",
       "      <td>1.252054e+11</td>\n",
       "      <td>1.942699e+07</td>\n",
       "    </tr>\n",
       "    <tr>\n",
       "      <th>75%</th>\n",
       "      <td>100.000000</td>\n",
       "      <td>1.405000</td>\n",
       "      <td>16705.000000</td>\n",
       "      <td>17065.000000</td>\n",
       "      <td>16325.000000</td>\n",
       "      <td>3.323370e+05</td>\n",
       "      <td>2.931943e+09</td>\n",
       "      <td>3.029736e+11</td>\n",
       "      <td>4.030443e+07</td>\n",
       "    </tr>\n",
       "    <tr>\n",
       "      <th>max</th>\n",
       "      <td>50000.000000</td>\n",
       "      <td>29.920000</td>\n",
       "      <td>791000.000000</td>\n",
       "      <td>804000.000000</td>\n",
       "      <td>791000.000000</td>\n",
       "      <td>4.745678e+07</td>\n",
       "      <td>1.674037e+12</td>\n",
       "      <td>3.671416e+14</td>\n",
       "      <td>5.969783e+09</td>\n",
       "    </tr>\n",
       "  </tbody>\n",
       "</table>\n",
       "</div>"
      ],
      "text/plain": [
       "            Changes  ChagesRatio           Open           High            Low  \\\n",
       "count   2703.000000  2703.000000    2703.000000    2703.000000    2703.000000   \n",
       "mean     147.721051     0.589504   21521.464669   21859.458750   21088.466889   \n",
       "std     1716.752360     3.564455   56997.643190   57713.141306   55938.000237   \n",
       "min   -15400.000000   -29.950000       0.000000       0.000000       0.000000   \n",
       "25%      -45.000000    -0.780000    2827.500000    2882.500000    2770.000000   \n",
       "50%        0.000000     0.000000    6900.000000    7070.000000    6770.000000   \n",
       "75%      100.000000     1.405000   16705.000000   17065.000000   16325.000000   \n",
       "max    50000.000000    29.920000  791000.000000  804000.000000  791000.000000   \n",
       "\n",
       "             Volume        Amount        Marcap        Stocks  \n",
       "count  2.703000e+03  2.703000e+03  2.703000e+03  2.703000e+03  \n",
       "mean   5.659129e+05  8.245806e+09  8.637367e+11  4.211697e+07  \n",
       "std    2.335815e+06  4.821810e+10  8.113375e+12  1.366899e+08  \n",
       "min    0.000000e+00  0.000000e+00  9.014449e+08  1.098520e+05  \n",
       "25%    2.505100e+04  1.527569e+08  6.148754e+10  9.917994e+06  \n",
       "50%    9.641300e+04  5.938960e+08  1.252054e+11  1.942699e+07  \n",
       "75%    3.323370e+05  2.931943e+09  3.029736e+11  4.030443e+07  \n",
       "max    4.745678e+07  1.674037e+12  3.671416e+14  5.969783e+09  "
      ]
     },
     "execution_count": 10,
     "metadata": {},
     "output_type": "execute_result"
    }
   ],
   "source": [
    "# 기술통계 값을 요약합니다.\n",
    "\n",
    "df_krx.describe()"
   ]
  },
  {
   "cell_type": "markdown",
   "metadata": {},
   "source": [
    "### 파일로 저장하고 불러오기"
   ]
  },
  {
   "cell_type": "markdown",
   "metadata": {
    "execution": {
     "iopub.execute_input": "2023-03-06T09:30:51.225675Z",
     "iopub.status.busy": "2023-03-06T09:30:51.225147Z",
     "iopub.status.idle": "2023-03-06T09:30:51.233989Z",
     "shell.execute_reply": "2023-03-06T09:30:51.232236Z",
     "shell.execute_reply.started": "2023-03-06T09:30:51.225627Z"
    },
    "tags": []
   },
   "source": [
    "<img src=\"https://camo.githubusercontent.com/23b134c60ad740643c997b50c6678574fc55d2c58f793ad7407aaa02240831db/68747470733a2f2f70616e6461732e7079646174612e6f72672f646f63732f5f696d616765732f30325f696f5f7265616477726974652e737667\">"
   ]
  },
  {
   "cell_type": "code",
   "execution_count": 11,
   "metadata": {
    "execution": {
     "iopub.execute_input": "2023-03-06T09:34:15.694915Z",
     "iopub.status.busy": "2023-03-06T09:34:15.694434Z",
     "iopub.status.idle": "2023-03-06T09:34:15.718173Z",
     "shell.execute_reply": "2023-03-06T09:34:15.717053Z",
     "shell.execute_reply.started": "2023-03-06T09:34:15.694868Z"
    },
    "tags": []
   },
   "outputs": [
    {
     "data": {
      "text/html": [
       "<div>\n",
       "<style scoped>\n",
       "    .dataframe tbody tr th:only-of-type {\n",
       "        vertical-align: middle;\n",
       "    }\n",
       "\n",
       "    .dataframe tbody tr th {\n",
       "        vertical-align: top;\n",
       "    }\n",
       "\n",
       "    .dataframe thead th {\n",
       "        text-align: right;\n",
       "    }\n",
       "</style>\n",
       "<table border=\"1\" class=\"dataframe\">\n",
       "  <thead>\n",
       "    <tr style=\"text-align: right;\">\n",
       "      <th></th>\n",
       "      <th>Code</th>\n",
       "      <th>ISU_CD</th>\n",
       "      <th>Name</th>\n",
       "      <th>Market</th>\n",
       "      <th>Dept</th>\n",
       "      <th>Close</th>\n",
       "      <th>ChangeCode</th>\n",
       "      <th>Changes</th>\n",
       "      <th>ChagesRatio</th>\n",
       "      <th>Open</th>\n",
       "      <th>High</th>\n",
       "      <th>Low</th>\n",
       "      <th>Volume</th>\n",
       "      <th>Amount</th>\n",
       "      <th>Marcap</th>\n",
       "      <th>Stocks</th>\n",
       "      <th>MarketId</th>\n",
       "    </tr>\n",
       "  </thead>\n",
       "  <tbody>\n",
       "    <tr>\n",
       "      <th>0</th>\n",
       "      <td>005930</td>\n",
       "      <td>KR7005930003</td>\n",
       "      <td>삼성전자</td>\n",
       "      <td>KOSPI</td>\n",
       "      <td></td>\n",
       "      <td>61500</td>\n",
       "      <td>1</td>\n",
       "      <td>1000</td>\n",
       "      <td>1.65</td>\n",
       "      <td>61100</td>\n",
       "      <td>61600</td>\n",
       "      <td>60800</td>\n",
       "      <td>13630602</td>\n",
       "      <td>835007952600</td>\n",
       "      <td>367141626825000</td>\n",
       "      <td>5969782550</td>\n",
       "      <td>STK</td>\n",
       "    </tr>\n",
       "    <tr>\n",
       "      <th>1</th>\n",
       "      <td>373220</td>\n",
       "      <td>KR7373220003</td>\n",
       "      <td>LG에너지솔루션</td>\n",
       "      <td>KOSPI</td>\n",
       "      <td></td>\n",
       "      <td>547000</td>\n",
       "      <td>1</td>\n",
       "      <td>9000</td>\n",
       "      <td>1.67</td>\n",
       "      <td>545000</td>\n",
       "      <td>547000</td>\n",
       "      <td>533000</td>\n",
       "      <td>418951</td>\n",
       "      <td>226937278000</td>\n",
       "      <td>127998000000000</td>\n",
       "      <td>234000000</td>\n",
       "      <td>STK</td>\n",
       "    </tr>\n",
       "    <tr>\n",
       "      <th>2</th>\n",
       "      <td>000660</td>\n",
       "      <td>KR7000660001</td>\n",
       "      <td>SK하이닉스</td>\n",
       "      <td>KOSPI</td>\n",
       "      <td></td>\n",
       "      <td>89700</td>\n",
       "      <td>1</td>\n",
       "      <td>2400</td>\n",
       "      <td>2.75</td>\n",
       "      <td>87900</td>\n",
       "      <td>89800</td>\n",
       "      <td>87500</td>\n",
       "      <td>2374415</td>\n",
       "      <td>211094486100</td>\n",
       "      <td>65301812140500</td>\n",
       "      <td>728002365</td>\n",
       "      <td>STK</td>\n",
       "    </tr>\n",
       "    <tr>\n",
       "      <th>3</th>\n",
       "      <td>207940</td>\n",
       "      <td>KR7207940008</td>\n",
       "      <td>삼성바이오로직스</td>\n",
       "      <td>KOSPI</td>\n",
       "      <td></td>\n",
       "      <td>801000</td>\n",
       "      <td>1</td>\n",
       "      <td>13000</td>\n",
       "      <td>1.65</td>\n",
       "      <td>791000</td>\n",
       "      <td>804000</td>\n",
       "      <td>791000</td>\n",
       "      <td>73227</td>\n",
       "      <td>58490953337</td>\n",
       "      <td>57010374000000</td>\n",
       "      <td>71174000</td>\n",
       "      <td>STK</td>\n",
       "    </tr>\n",
       "    <tr>\n",
       "      <th>4</th>\n",
       "      <td>006400</td>\n",
       "      <td>KR7006400006</td>\n",
       "      <td>삼성SDI</td>\n",
       "      <td>KOSPI</td>\n",
       "      <td></td>\n",
       "      <td>781000</td>\n",
       "      <td>1</td>\n",
       "      <td>50000</td>\n",
       "      <td>6.84</td>\n",
       "      <td>748000</td>\n",
       "      <td>781000</td>\n",
       "      <td>743000</td>\n",
       "      <td>754225</td>\n",
       "      <td>575119030000</td>\n",
       "      <td>53705097930000</td>\n",
       "      <td>68764530</td>\n",
       "      <td>STK</td>\n",
       "    </tr>\n",
       "  </tbody>\n",
       "</table>\n",
       "</div>"
      ],
      "text/plain": [
       "     Code        ISU_CD      Name Market Dept   Close ChangeCode  Changes  \\\n",
       "0  005930  KR7005930003      삼성전자  KOSPI        61500          1     1000   \n",
       "1  373220  KR7373220003  LG에너지솔루션  KOSPI       547000          1     9000   \n",
       "2  000660  KR7000660001    SK하이닉스  KOSPI        89700          1     2400   \n",
       "3  207940  KR7207940008  삼성바이오로직스  KOSPI       801000          1    13000   \n",
       "4  006400  KR7006400006     삼성SDI  KOSPI       781000          1    50000   \n",
       "\n",
       "   ChagesRatio    Open    High     Low    Volume        Amount  \\\n",
       "0         1.65   61100   61600   60800  13630602  835007952600   \n",
       "1         1.67  545000  547000  533000    418951  226937278000   \n",
       "2         2.75   87900   89800   87500   2374415  211094486100   \n",
       "3         1.65  791000  804000  791000     73227   58490953337   \n",
       "4         6.84  748000  781000  743000    754225  575119030000   \n",
       "\n",
       "            Marcap      Stocks MarketId  \n",
       "0  367141626825000  5969782550      STK  \n",
       "1  127998000000000   234000000      STK  \n",
       "2   65301812140500   728002365      STK  \n",
       "3   57010374000000    71174000      STK  \n",
       "4   53705097930000    68764530      STK  "
      ]
     },
     "execution_count": 11,
     "metadata": {},
     "output_type": "execute_result"
    }
   ],
   "source": [
    "# head 로 미리보기\n",
    "df_krx.head()"
   ]
  },
  {
   "cell_type": "code",
   "execution_count": 12,
   "metadata": {
    "execution": {
     "iopub.execute_input": "2023-03-06T09:34:16.044710Z",
     "iopub.status.busy": "2023-03-06T09:34:16.044405Z",
     "iopub.status.idle": "2023-03-06T09:34:16.077278Z",
     "shell.execute_reply": "2023-03-06T09:34:16.076384Z",
     "shell.execute_reply.started": "2023-03-06T09:34:16.044680Z"
    },
    "tags": []
   },
   "outputs": [],
   "source": [
    "# to_csv로 Dataframe을 데이터 저장용 파일인 CSV 파일로 바꿀 수 있습니다.\n",
    "df_krx.to_csv(\"krx.csv\", index=False)"
   ]
  },
  {
   "cell_type": "code",
   "execution_count": 13,
   "metadata": {
    "execution": {
     "iopub.execute_input": "2023-03-06T09:34:16.525147Z",
     "iopub.status.busy": "2023-03-06T09:34:16.524566Z",
     "iopub.status.idle": "2023-03-06T09:34:16.570739Z",
     "shell.execute_reply": "2023-03-06T09:34:16.569860Z",
     "shell.execute_reply.started": "2023-03-06T09:34:16.525093Z"
    },
    "tags": []
   },
   "outputs": [
    {
     "data": {
      "text/html": [
       "<div>\n",
       "<style scoped>\n",
       "    .dataframe tbody tr th:only-of-type {\n",
       "        vertical-align: middle;\n",
       "    }\n",
       "\n",
       "    .dataframe tbody tr th {\n",
       "        vertical-align: top;\n",
       "    }\n",
       "\n",
       "    .dataframe thead th {\n",
       "        text-align: right;\n",
       "    }\n",
       "</style>\n",
       "<table border=\"1\" class=\"dataframe\">\n",
       "  <thead>\n",
       "    <tr style=\"text-align: right;\">\n",
       "      <th></th>\n",
       "      <th>Code</th>\n",
       "      <th>ISU_CD</th>\n",
       "      <th>Name</th>\n",
       "      <th>Market</th>\n",
       "      <th>Dept</th>\n",
       "      <th>Close</th>\n",
       "      <th>ChangeCode</th>\n",
       "      <th>Changes</th>\n",
       "      <th>ChagesRatio</th>\n",
       "      <th>Open</th>\n",
       "      <th>High</th>\n",
       "      <th>Low</th>\n",
       "      <th>Volume</th>\n",
       "      <th>Amount</th>\n",
       "      <th>Marcap</th>\n",
       "      <th>Stocks</th>\n",
       "      <th>MarketId</th>\n",
       "    </tr>\n",
       "  </thead>\n",
       "  <tbody>\n",
       "    <tr>\n",
       "      <th>0</th>\n",
       "      <td>005930</td>\n",
       "      <td>KR7005930003</td>\n",
       "      <td>삼성전자</td>\n",
       "      <td>KOSPI</td>\n",
       "      <td>NaN</td>\n",
       "      <td>61500</td>\n",
       "      <td>1</td>\n",
       "      <td>1000</td>\n",
       "      <td>1.65</td>\n",
       "      <td>61100</td>\n",
       "      <td>61600</td>\n",
       "      <td>60800</td>\n",
       "      <td>13630602</td>\n",
       "      <td>835007952600</td>\n",
       "      <td>367141626825000</td>\n",
       "      <td>5969782550</td>\n",
       "      <td>STK</td>\n",
       "    </tr>\n",
       "    <tr>\n",
       "      <th>1</th>\n",
       "      <td>373220</td>\n",
       "      <td>KR7373220003</td>\n",
       "      <td>LG에너지솔루션</td>\n",
       "      <td>KOSPI</td>\n",
       "      <td>NaN</td>\n",
       "      <td>547000</td>\n",
       "      <td>1</td>\n",
       "      <td>9000</td>\n",
       "      <td>1.67</td>\n",
       "      <td>545000</td>\n",
       "      <td>547000</td>\n",
       "      <td>533000</td>\n",
       "      <td>418951</td>\n",
       "      <td>226937278000</td>\n",
       "      <td>127998000000000</td>\n",
       "      <td>234000000</td>\n",
       "      <td>STK</td>\n",
       "    </tr>\n",
       "    <tr>\n",
       "      <th>2</th>\n",
       "      <td>000660</td>\n",
       "      <td>KR7000660001</td>\n",
       "      <td>SK하이닉스</td>\n",
       "      <td>KOSPI</td>\n",
       "      <td>NaN</td>\n",
       "      <td>89700</td>\n",
       "      <td>1</td>\n",
       "      <td>2400</td>\n",
       "      <td>2.75</td>\n",
       "      <td>87900</td>\n",
       "      <td>89800</td>\n",
       "      <td>87500</td>\n",
       "      <td>2374415</td>\n",
       "      <td>211094486100</td>\n",
       "      <td>65301812140500</td>\n",
       "      <td>728002365</td>\n",
       "      <td>STK</td>\n",
       "    </tr>\n",
       "    <tr>\n",
       "      <th>3</th>\n",
       "      <td>207940</td>\n",
       "      <td>KR7207940008</td>\n",
       "      <td>삼성바이오로직스</td>\n",
       "      <td>KOSPI</td>\n",
       "      <td>NaN</td>\n",
       "      <td>801000</td>\n",
       "      <td>1</td>\n",
       "      <td>13000</td>\n",
       "      <td>1.65</td>\n",
       "      <td>791000</td>\n",
       "      <td>804000</td>\n",
       "      <td>791000</td>\n",
       "      <td>73227</td>\n",
       "      <td>58490953337</td>\n",
       "      <td>57010374000000</td>\n",
       "      <td>71174000</td>\n",
       "      <td>STK</td>\n",
       "    </tr>\n",
       "    <tr>\n",
       "      <th>4</th>\n",
       "      <td>006400</td>\n",
       "      <td>KR7006400006</td>\n",
       "      <td>삼성SDI</td>\n",
       "      <td>KOSPI</td>\n",
       "      <td>NaN</td>\n",
       "      <td>781000</td>\n",
       "      <td>1</td>\n",
       "      <td>50000</td>\n",
       "      <td>6.84</td>\n",
       "      <td>748000</td>\n",
       "      <td>781000</td>\n",
       "      <td>743000</td>\n",
       "      <td>754225</td>\n",
       "      <td>575119030000</td>\n",
       "      <td>53705097930000</td>\n",
       "      <td>68764530</td>\n",
       "      <td>STK</td>\n",
       "    </tr>\n",
       "    <tr>\n",
       "      <th>...</th>\n",
       "      <td>...</td>\n",
       "      <td>...</td>\n",
       "      <td>...</td>\n",
       "      <td>...</td>\n",
       "      <td>...</td>\n",
       "      <td>...</td>\n",
       "      <td>...</td>\n",
       "      <td>...</td>\n",
       "      <td>...</td>\n",
       "      <td>...</td>\n",
       "      <td>...</td>\n",
       "      <td>...</td>\n",
       "      <td>...</td>\n",
       "      <td>...</td>\n",
       "      <td>...</td>\n",
       "      <td>...</td>\n",
       "      <td>...</td>\n",
       "    </tr>\n",
       "    <tr>\n",
       "      <th>2698</th>\n",
       "      <td>215050</td>\n",
       "      <td>KR7215050006</td>\n",
       "      <td>비엔디생활건강</td>\n",
       "      <td>KONEX</td>\n",
       "      <td>일반기업부</td>\n",
       "      <td>912</td>\n",
       "      <td>0</td>\n",
       "      <td>0</td>\n",
       "      <td>0.00</td>\n",
       "      <td>0</td>\n",
       "      <td>0</td>\n",
       "      <td>0</td>\n",
       "      <td>0</td>\n",
       "      <td>0</td>\n",
       "      <td>1934959392</td>\n",
       "      <td>2121666</td>\n",
       "      <td>KNX</td>\n",
       "    </tr>\n",
       "    <tr>\n",
       "      <th>2699</th>\n",
       "      <td>288490</td>\n",
       "      <td>KR7288490006</td>\n",
       "      <td>나라소프트</td>\n",
       "      <td>KONEX</td>\n",
       "      <td>일반기업부</td>\n",
       "      <td>47</td>\n",
       "      <td>1</td>\n",
       "      <td>4</td>\n",
       "      <td>9.30</td>\n",
       "      <td>43</td>\n",
       "      <td>47</td>\n",
       "      <td>43</td>\n",
       "      <td>74249</td>\n",
       "      <td>3423564</td>\n",
       "      <td>1792909000</td>\n",
       "      <td>38147000</td>\n",
       "      <td>KNX</td>\n",
       "    </tr>\n",
       "    <tr>\n",
       "      <th>2700</th>\n",
       "      <td>267060</td>\n",
       "      <td>KR7267060002</td>\n",
       "      <td>명진홀딩스</td>\n",
       "      <td>KONEX</td>\n",
       "      <td>일반기업부</td>\n",
       "      <td>181</td>\n",
       "      <td>0</td>\n",
       "      <td>0</td>\n",
       "      <td>0.00</td>\n",
       "      <td>0</td>\n",
       "      <td>0</td>\n",
       "      <td>0</td>\n",
       "      <td>0</td>\n",
       "      <td>0</td>\n",
       "      <td>1654666524</td>\n",
       "      <td>9141804</td>\n",
       "      <td>KNX</td>\n",
       "    </tr>\n",
       "    <tr>\n",
       "      <th>2701</th>\n",
       "      <td>308700</td>\n",
       "      <td>KR7308700004</td>\n",
       "      <td>테크엔</td>\n",
       "      <td>KONEX</td>\n",
       "      <td>일반기업부</td>\n",
       "      <td>332</td>\n",
       "      <td>2</td>\n",
       "      <td>-10</td>\n",
       "      <td>-2.92</td>\n",
       "      <td>393</td>\n",
       "      <td>393</td>\n",
       "      <td>332</td>\n",
       "      <td>20</td>\n",
       "      <td>7250</td>\n",
       "      <td>1328000000</td>\n",
       "      <td>4000000</td>\n",
       "      <td>KNX</td>\n",
       "    </tr>\n",
       "    <tr>\n",
       "      <th>2702</th>\n",
       "      <td>322190</td>\n",
       "      <td>KR7322190000</td>\n",
       "      <td>베른</td>\n",
       "      <td>KONEX</td>\n",
       "      <td>일반기업부</td>\n",
       "      <td>101</td>\n",
       "      <td>2</td>\n",
       "      <td>-2</td>\n",
       "      <td>-1.94</td>\n",
       "      <td>105</td>\n",
       "      <td>105</td>\n",
       "      <td>101</td>\n",
       "      <td>23</td>\n",
       "      <td>2348</td>\n",
       "      <td>901444897</td>\n",
       "      <td>8925197</td>\n",
       "      <td>KNX</td>\n",
       "    </tr>\n",
       "  </tbody>\n",
       "</table>\n",
       "<p>2703 rows × 17 columns</p>\n",
       "</div>"
      ],
      "text/plain": [
       "        Code        ISU_CD      Name Market   Dept   Close  ChangeCode  \\\n",
       "0     005930  KR7005930003      삼성전자  KOSPI    NaN   61500           1   \n",
       "1     373220  KR7373220003  LG에너지솔루션  KOSPI    NaN  547000           1   \n",
       "2     000660  KR7000660001    SK하이닉스  KOSPI    NaN   89700           1   \n",
       "3     207940  KR7207940008  삼성바이오로직스  KOSPI    NaN  801000           1   \n",
       "4     006400  KR7006400006     삼성SDI  KOSPI    NaN  781000           1   \n",
       "...      ...           ...       ...    ...    ...     ...         ...   \n",
       "2698  215050  KR7215050006   비엔디생활건강  KONEX  일반기업부     912           0   \n",
       "2699  288490  KR7288490006     나라소프트  KONEX  일반기업부      47           1   \n",
       "2700  267060  KR7267060002     명진홀딩스  KONEX  일반기업부     181           0   \n",
       "2701  308700  KR7308700004       테크엔  KONEX  일반기업부     332           2   \n",
       "2702  322190  KR7322190000        베른  KONEX  일반기업부     101           2   \n",
       "\n",
       "      Changes  ChagesRatio    Open    High     Low    Volume        Amount  \\\n",
       "0        1000         1.65   61100   61600   60800  13630602  835007952600   \n",
       "1        9000         1.67  545000  547000  533000    418951  226937278000   \n",
       "2        2400         2.75   87900   89800   87500   2374415  211094486100   \n",
       "3       13000         1.65  791000  804000  791000     73227   58490953337   \n",
       "4       50000         6.84  748000  781000  743000    754225  575119030000   \n",
       "...       ...          ...     ...     ...     ...       ...           ...   \n",
       "2698        0         0.00       0       0       0         0             0   \n",
       "2699        4         9.30      43      47      43     74249       3423564   \n",
       "2700        0         0.00       0       0       0         0             0   \n",
       "2701      -10        -2.92     393     393     332        20          7250   \n",
       "2702       -2        -1.94     105     105     101        23          2348   \n",
       "\n",
       "               Marcap      Stocks MarketId  \n",
       "0     367141626825000  5969782550      STK  \n",
       "1     127998000000000   234000000      STK  \n",
       "2      65301812140500   728002365      STK  \n",
       "3      57010374000000    71174000      STK  \n",
       "4      53705097930000    68764530      STK  \n",
       "...               ...         ...      ...  \n",
       "2698       1934959392     2121666      KNX  \n",
       "2699       1792909000    38147000      KNX  \n",
       "2700       1654666524     9141804      KNX  \n",
       "2701       1328000000     4000000      KNX  \n",
       "2702        901444897     8925197      KNX  \n",
       "\n",
       "[2703 rows x 17 columns]"
      ]
     },
     "execution_count": 13,
     "metadata": {},
     "output_type": "execute_result"
    }
   ],
   "source": [
    "# CSV로 저장된 파일을 다시 DataFrame으로 읽어서 확인해 봅니다.\n",
    "pd.read_csv(\"krx.csv\")"
   ]
  },
  {
   "cell_type": "markdown",
   "metadata": {
    "id": "VNyU_0nM7gDr"
   },
   "source": [
    "## 개별 종목의 일별 시세 수집\n",
    "* 종목코드로 수집이 가능합니다.\n",
    "* 종목명을 찾아서 일별 시세를 수집해 주는 함수를 만들어 볼 예정입니다."
   ]
  },
  {
   "cell_type": "code",
   "execution_count": 14,
   "metadata": {
    "execution": {
     "iopub.execute_input": "2023-03-06T09:34:17.424871Z",
     "iopub.status.busy": "2023-03-06T09:34:17.424339Z",
     "iopub.status.idle": "2023-03-06T09:34:17.641226Z",
     "shell.execute_reply": "2023-03-06T09:34:17.640469Z",
     "shell.execute_reply.started": "2023-03-06T09:34:17.424822Z"
    },
    "id": "-MWybAcD5HMT",
    "tags": []
   },
   "outputs": [
    {
     "data": {
      "text/html": [
       "<div>\n",
       "<style scoped>\n",
       "    .dataframe tbody tr th:only-of-type {\n",
       "        vertical-align: middle;\n",
       "    }\n",
       "\n",
       "    .dataframe tbody tr th {\n",
       "        vertical-align: top;\n",
       "    }\n",
       "\n",
       "    .dataframe thead th {\n",
       "        text-align: right;\n",
       "    }\n",
       "</style>\n",
       "<table border=\"1\" class=\"dataframe\">\n",
       "  <thead>\n",
       "    <tr style=\"text-align: right;\">\n",
       "      <th></th>\n",
       "      <th>Open</th>\n",
       "      <th>High</th>\n",
       "      <th>Low</th>\n",
       "      <th>Close</th>\n",
       "      <th>Volume</th>\n",
       "      <th>Change</th>\n",
       "    </tr>\n",
       "    <tr>\n",
       "      <th>Date</th>\n",
       "      <th></th>\n",
       "      <th></th>\n",
       "      <th></th>\n",
       "      <th></th>\n",
       "      <th></th>\n",
       "      <th></th>\n",
       "    </tr>\n",
       "  </thead>\n",
       "  <tbody>\n",
       "    <tr>\n",
       "      <th>2017-01-02</th>\n",
       "      <td>35980</td>\n",
       "      <td>36240</td>\n",
       "      <td>35880</td>\n",
       "      <td>36100</td>\n",
       "      <td>93012</td>\n",
       "      <td>0.001665</td>\n",
       "    </tr>\n",
       "    <tr>\n",
       "      <th>2017-01-03</th>\n",
       "      <td>36280</td>\n",
       "      <td>36620</td>\n",
       "      <td>36020</td>\n",
       "      <td>36480</td>\n",
       "      <td>147153</td>\n",
       "      <td>0.010526</td>\n",
       "    </tr>\n",
       "    <tr>\n",
       "      <th>2017-01-04</th>\n",
       "      <td>36500</td>\n",
       "      <td>36520</td>\n",
       "      <td>36100</td>\n",
       "      <td>36160</td>\n",
       "      <td>159435</td>\n",
       "      <td>-0.008772</td>\n",
       "    </tr>\n",
       "    <tr>\n",
       "      <th>2017-01-05</th>\n",
       "      <td>36060</td>\n",
       "      <td>36060</td>\n",
       "      <td>35540</td>\n",
       "      <td>35560</td>\n",
       "      <td>219349</td>\n",
       "      <td>-0.016593</td>\n",
       "    </tr>\n",
       "    <tr>\n",
       "      <th>2017-01-06</th>\n",
       "      <td>36180</td>\n",
       "      <td>36440</td>\n",
       "      <td>36040</td>\n",
       "      <td>36200</td>\n",
       "      <td>177619</td>\n",
       "      <td>0.017998</td>\n",
       "    </tr>\n",
       "  </tbody>\n",
       "</table>\n",
       "</div>"
      ],
      "text/plain": [
       "             Open   High    Low  Close  Volume    Change\n",
       "Date                                                    \n",
       "2017-01-02  35980  36240  35880  36100   93012  0.001665\n",
       "2017-01-03  36280  36620  36020  36480  147153  0.010526\n",
       "2017-01-04  36500  36520  36100  36160  159435 -0.008772\n",
       "2017-01-05  36060  36060  35540  35560  219349 -0.016593\n",
       "2017-01-06  36180  36440  36040  36200  177619  0.017998"
      ]
     },
     "execution_count": 14,
     "metadata": {},
     "output_type": "execute_result"
    }
   ],
   "source": [
    "# 삼성전자, 2017년~현재 일별 시세 받아오기\n",
    "# 삼성전자의 종목 번호 '005930'\n",
    "\n",
    "df = fdr.DataReader('005930', \"2017\", \"2021\")\n",
    "df.head()"
   ]
  },
  {
   "cell_type": "code",
   "execution_count": 15,
   "metadata": {
    "execution": {
     "iopub.execute_input": "2023-03-06T09:34:17.984073Z",
     "iopub.status.busy": "2023-03-06T09:34:17.983738Z",
     "iopub.status.idle": "2023-03-06T09:34:18.679380Z",
     "shell.execute_reply": "2023-03-06T09:34:18.678588Z",
     "shell.execute_reply.started": "2023-03-06T09:34:17.984042Z"
    },
    "tags": []
   },
   "outputs": [
    {
     "data": {
      "text/plain": [
       "<Axes: xlabel='Date'>"
      ]
     },
     "execution_count": 15,
     "metadata": {},
     "output_type": "execute_result"
    },
    {
     "data": {
      "image/png": "[encoded data removed]",
      "text/plain": [
       "<Figure size 640x480 with 1 Axes>"
      ]
     },
     "metadata": {},
     "output_type": "display_data"
    }
   ],
   "source": [
    "df[\"Close\"].plot()"
   ]
  },
  {
   "cell_type": "markdown",
   "metadata": {
    "id": "h7T4gW_W-FmZ"
   },
   "source": [
    "## 상장종목 목록 가져오기"
   ]
  },
  {
   "cell_type": "code",
   "execution_count": 16,
   "metadata": {
    "execution": {
     "iopub.execute_input": "2023-03-06T09:34:19.725179Z",
     "iopub.status.busy": "2023-03-06T09:34:19.724874Z",
     "iopub.status.idle": "2023-03-06T09:34:19.741165Z",
     "shell.execute_reply": "2023-03-06T09:34:19.740554Z",
     "shell.execute_reply.started": "2023-03-06T09:34:19.725155Z"
    },
    "id": "gWgVQdSx5HMT",
    "tags": []
   },
   "outputs": [
    {
     "data": {
      "text/plain": [
       "(2703, 17)"
      ]
     },
     "execution_count": 16,
     "metadata": {},
     "output_type": "execute_result"
    }
   ],
   "source": [
    "# 위에서 저장해 놓았던 csv 파일로 분석을 합니다.\n",
    "# colab 사용자의 경우 이미 csv 파일이 지워졌을 수 있기 때문에 파일이 없을 경우 아래 셀에서 다시 load하면 됩니다.\n",
    "df_krx = pd.read_csv(\"krx.csv\")\n",
    "df_krx.shape"
   ]
  },
  {
   "cell_type": "code",
   "execution_count": 17,
   "metadata": {
    "execution": {
     "iopub.execute_input": "2023-03-06T09:34:20.213367Z",
     "iopub.status.busy": "2023-03-06T09:34:20.213061Z",
     "iopub.status.idle": "2023-03-06T09:34:20.218120Z",
     "shell.execute_reply": "2023-03-06T09:34:20.217112Z",
     "shell.execute_reply.started": "2023-03-06T09:34:20.213337Z"
    },
    "id": "muwUkDSF5HMT",
    "tags": []
   },
   "outputs": [],
   "source": [
    "# 위 CSV 파일이 로드되지 않아 당황스러우신가요? 그럼 아래 주석을 풀고 다시 KRX 데이터를 받아오세요.\n",
    "# colab의 경우 일정 시간이 지나면 런타임이 초기화 되기 때문에 다시 로드하면 데이터를 가져올 수 있습니다.\n",
    "# df_krx = fdr.StockListing('KRX')"
   ]
  },
  {
   "cell_type": "markdown",
   "metadata": {
    "id": "hbBmLbpY7vKY"
   },
   "source": [
    "## 상장종목 목록 사용하기\n",
    "* 종목명과 심볼을 찾기 위해 상장종목 목록을 사용합니다."
   ]
  },
  {
   "cell_type": "code",
   "execution_count": 18,
   "metadata": {
    "execution": {
     "iopub.execute_input": "2023-03-06T09:34:21.484460Z",
     "iopub.status.busy": "2023-03-06T09:34:21.484084Z",
     "iopub.status.idle": "2023-03-06T09:34:21.498226Z",
     "shell.execute_reply": "2023-03-06T09:34:21.497055Z",
     "shell.execute_reply.started": "2023-03-06T09:34:21.484422Z"
    },
    "id": "U0n_cZGA5HMT",
    "tags": []
   },
   "outputs": [
    {
     "data": {
      "text/html": [
       "<div>\n",
       "<style scoped>\n",
       "    .dataframe tbody tr th:only-of-type {\n",
       "        vertical-align: middle;\n",
       "    }\n",
       "\n",
       "    .dataframe tbody tr th {\n",
       "        vertical-align: top;\n",
       "    }\n",
       "\n",
       "    .dataframe thead th {\n",
       "        text-align: right;\n",
       "    }\n",
       "</style>\n",
       "<table border=\"1\" class=\"dataframe\">\n",
       "  <thead>\n",
       "    <tr style=\"text-align: right;\">\n",
       "      <th></th>\n",
       "      <th>Code</th>\n",
       "      <th>Name</th>\n",
       "    </tr>\n",
       "  </thead>\n",
       "  <tbody>\n",
       "    <tr>\n",
       "      <th>0</th>\n",
       "      <td>005930</td>\n",
       "      <td>삼성전자</td>\n",
       "    </tr>\n",
       "    <tr>\n",
       "      <th>1</th>\n",
       "      <td>373220</td>\n",
       "      <td>LG에너지솔루션</td>\n",
       "    </tr>\n",
       "    <tr>\n",
       "      <th>2</th>\n",
       "      <td>000660</td>\n",
       "      <td>SK하이닉스</td>\n",
       "    </tr>\n",
       "    <tr>\n",
       "      <th>3</th>\n",
       "      <td>207940</td>\n",
       "      <td>삼성바이오로직스</td>\n",
       "    </tr>\n",
       "    <tr>\n",
       "      <th>4</th>\n",
       "      <td>006400</td>\n",
       "      <td>삼성SDI</td>\n",
       "    </tr>\n",
       "  </tbody>\n",
       "</table>\n",
       "</div>"
      ],
      "text/plain": [
       "     Code      Name\n",
       "0  005930      삼성전자\n",
       "1  373220  LG에너지솔루션\n",
       "2  000660    SK하이닉스\n",
       "3  207940  삼성바이오로직스\n",
       "4  006400     삼성SDI"
      ]
     },
     "execution_count": 18,
     "metadata": {},
     "output_type": "execute_result"
    }
   ],
   "source": [
    "# DataFrame 에 어떤 데이터가 들어있는 head()로 일부 데이터만 가져와 봅니다.\n",
    "df_krx[[\"Code\", \"Name\"]].head()"
   ]
  },
  {
   "cell_type": "markdown",
   "metadata": {},
   "source": [
    "<font color=\"red\">빅히트 사명이 하이브로 변경되었습니다. 하이브로 실습해 주세요.</font>"
   ]
  },
  {
   "cell_type": "code",
   "execution_count": 19,
   "metadata": {
    "execution": {
     "iopub.execute_input": "2023-03-06T09:34:24.696840Z",
     "iopub.status.busy": "2023-03-06T09:34:24.696254Z",
     "iopub.status.idle": "2023-03-06T09:34:24.703337Z",
     "shell.execute_reply": "2023-03-06T09:34:24.701889Z",
     "shell.execute_reply.started": "2023-03-06T09:34:24.696787Z"
    },
    "id": "OJtBeoeo5HMT",
    "scrolled": true,
    "tags": []
   },
   "outputs": [],
   "source": [
    "# df_krx의 Name column 에서 '하이브'에 해당하는 row를 전부 가져오는데 Name column만 가져와\n",
    "# list 형태로 index 번호는 빼고 ['하이브'] 만 가져오게 되고 [0]을 통해 list에 있는 string만 가져오게 됩니다.\n",
    "# 하이브 (series) -> ['하이브'] (list) -> '하이브' (string)\n",
    "# item_name = \"하이브\"\n",
    "# df_krx.loc[df_krx[\"Name\"] == item_name, \"Code\"].tolist()[0]"
   ]
  },
  {
   "cell_type": "code",
   "execution_count": 20,
   "metadata": {
    "execution": {
     "iopub.execute_input": "2023-03-06T09:34:25.065249Z",
     "iopub.status.busy": "2023-03-06T09:34:25.064619Z",
     "iopub.status.idle": "2023-03-06T09:34:25.070650Z",
     "shell.execute_reply": "2023-03-06T09:34:25.069376Z",
     "shell.execute_reply.started": "2023-03-06T09:34:25.065197Z"
    },
    "id": "2YfQlf9U5HMU",
    "tags": []
   },
   "outputs": [],
   "source": [
    "# '히트'라는 이름을 가진 상장사가 있는지 확인해 보기\n",
    "# df_krx.loc[df_krx[\"Name\"] == \"히트\", \"Code\"].tolist()[0]"
   ]
  },
  {
   "cell_type": "markdown",
   "metadata": {
    "id": "vaM5_Hkd5HMU"
   },
   "source": [
    "## 종목명으로 종목 코드를 받아오는 함수 만들기"
   ]
  },
  {
   "cell_type": "code",
   "execution_count": 21,
   "metadata": {
    "execution": {
     "iopub.execute_input": "2023-03-06T09:34:25.816115Z",
     "iopub.status.busy": "2023-03-06T09:34:25.815600Z",
     "iopub.status.idle": "2023-03-06T09:34:25.824994Z",
     "shell.execute_reply": "2023-03-06T09:34:25.823720Z",
     "shell.execute_reply.started": "2023-03-06T09:34:25.816064Z"
    },
    "id": "6EB27Rkx5HMU",
    "tags": []
   },
   "outputs": [],
   "source": [
    "# 종목명으로 종목코드 받아오는 함수 만들기\n",
    "# df_krx의 Name column에서 같은 값이 있으면 \n",
    "# row의 Symbol column의 값을 list로 name_list에 저장하기\n",
    "# item_code_by_item_name 함수를 만듭니다.\n",
    "\n",
    "def item_code_by_item_name(item_name):\n",
    "    \"\"\"\n",
    "    종목명을 받아 종목코드를 찾아 반환하는 함수\n",
    "    \"\"\"\n",
    "    item_code_list = df_krx.loc[df_krx[\"Name\"] == item_name, \"Code\"].tolist()\n",
    "    if len(item_code_list) > 0:\n",
    "        item_code = item_code_list[0]\n",
    "        return item_code\n",
    "    else:\n",
    "        return False"
   ]
  },
  {
   "cell_type": "code",
   "execution_count": 22,
   "metadata": {
    "execution": {
     "iopub.execute_input": "2023-03-06T09:34:27.206349Z",
     "iopub.status.busy": "2023-03-06T09:34:27.205756Z",
     "iopub.status.idle": "2023-03-06T09:34:27.216911Z",
     "shell.execute_reply": "2023-03-06T09:34:27.215480Z",
     "shell.execute_reply.started": "2023-03-06T09:34:27.206296Z"
    },
    "tags": []
   },
   "outputs": [
    {
     "data": {
      "text/plain": [
       "'352820'"
      ]
     },
     "execution_count": 22,
     "metadata": {},
     "output_type": "execute_result"
    }
   ],
   "source": [
    "item_code_by_item_name(\"하이브\")"
   ]
  },
  {
   "cell_type": "code",
   "execution_count": 23,
   "metadata": {
    "execution": {
     "iopub.execute_input": "2023-03-06T09:34:27.391154Z",
     "iopub.status.busy": "2023-03-06T09:34:27.390835Z",
     "iopub.status.idle": "2023-03-06T09:34:27.398907Z",
     "shell.execute_reply": "2023-03-06T09:34:27.397663Z",
     "shell.execute_reply.started": "2023-03-06T09:34:27.391123Z"
    },
    "id": "oMwl2Dzq5HMU",
    "tags": []
   },
   "outputs": [
    {
     "data": {
      "text/plain": [
       "False"
      ]
     },
     "execution_count": 23,
     "metadata": {},
     "output_type": "execute_result"
    }
   ],
   "source": [
    "# 네이버로 등록된 상장사는 없습니다.\n",
    "# 잘못 입력된 텍스트에 대해 예외처리를 하는지 확인합니다.\n",
    "item_code_by_item_name(\"네이버\")"
   ]
  },
  {
   "cell_type": "code",
   "execution_count": 24,
   "metadata": {
    "execution": {
     "iopub.execute_input": "2023-03-06T09:34:27.620952Z",
     "iopub.status.busy": "2023-03-06T09:34:27.620503Z",
     "iopub.status.idle": "2023-03-06T09:34:27.630229Z",
     "shell.execute_reply": "2023-03-06T09:34:27.628850Z",
     "shell.execute_reply.started": "2023-03-06T09:34:27.620908Z"
    },
    "id": "p8uKKoLUPwVK",
    "tags": []
   },
   "outputs": [
    {
     "data": {
      "text/plain": [
       "'035420'"
      ]
     },
     "execution_count": 24,
     "metadata": {},
     "output_type": "execute_result"
    }
   ],
   "source": [
    "# 네이버는 NAVER로 등록되어 있습니다.\n",
    "item_code_by_item_name(\"NAVER\")"
   ]
  },
  {
   "cell_type": "code",
   "execution_count": 25,
   "metadata": {
    "execution": {
     "iopub.execute_input": "2023-03-06T09:34:27.823606Z",
     "iopub.status.busy": "2023-03-06T09:34:27.823223Z",
     "iopub.status.idle": "2023-03-06T09:34:27.831938Z",
     "shell.execute_reply": "2023-03-06T09:34:27.830766Z",
     "shell.execute_reply.started": "2023-03-06T09:34:27.823569Z"
    },
    "tags": []
   },
   "outputs": [
    {
     "data": {
      "text/plain": [
       "'005930'"
      ]
     },
     "execution_count": 25,
     "metadata": {},
     "output_type": "execute_result"
    }
   ],
   "source": [
    "# 삼성전자\n",
    "item_code_by_item_name(\"삼성전자\")"
   ]
  },
  {
   "cell_type": "code",
   "execution_count": 26,
   "metadata": {
    "execution": {
     "iopub.execute_input": "2023-03-06T09:34:28.007626Z",
     "iopub.status.busy": "2023-03-06T09:34:28.007002Z",
     "iopub.status.idle": "2023-03-06T09:34:28.017318Z",
     "shell.execute_reply": "2023-03-06T09:34:28.015907Z",
     "shell.execute_reply.started": "2023-03-06T09:34:28.007562Z"
    },
    "id": "jMv5iz9a5HMU",
    "tags": []
   },
   "outputs": [
    {
     "data": {
      "text/plain": [
       "'068270'"
      ]
     },
     "execution_count": 26,
     "metadata": {},
     "output_type": "execute_result"
    }
   ],
   "source": [
    "# 셀트리온과 카카오게임즈도 확인하여 봅니다.\n",
    "item_code_by_item_name(\"셀트리온\")"
   ]
  },
  {
   "cell_type": "code",
   "execution_count": 27,
   "metadata": {
    "execution": {
     "iopub.execute_input": "2023-03-06T09:34:29.345761Z",
     "iopub.status.busy": "2023-03-06T09:34:29.345207Z",
     "iopub.status.idle": "2023-03-06T09:34:29.355632Z",
     "shell.execute_reply": "2023-03-06T09:34:29.354377Z",
     "shell.execute_reply.started": "2023-03-06T09:34:29.345709Z"
    },
    "tags": []
   },
   "outputs": [
    {
     "data": {
      "text/plain": [
       "'293490'"
      ]
     },
     "execution_count": 27,
     "metadata": {},
     "output_type": "execute_result"
    }
   ],
   "source": [
    "item_code_by_item_name(\"카카오게임즈\")"
   ]
  },
  {
   "cell_type": "code",
   "execution_count": 28,
   "metadata": {
    "execution": {
     "iopub.execute_input": "2023-03-06T09:34:29.504708Z",
     "iopub.status.busy": "2023-03-06T09:34:29.504222Z",
     "iopub.status.idle": "2023-03-06T09:34:29.510347Z",
     "shell.execute_reply": "2023-03-06T09:34:29.508919Z",
     "shell.execute_reply.started": "2023-03-06T09:34:29.504660Z"
    },
    "tags": []
   },
   "outputs": [],
   "source": [
    "# fdr.DataReader(item_code_by_item_name(\"LG화학\"))"
   ]
  },
  {
   "cell_type": "markdown",
   "metadata": {
    "id": "Wwe4qoor5HMU"
   },
   "source": [
    "## 종목명으로 일별시세를 받아오는 함수 만들기"
   ]
  },
  {
   "cell_type": "code",
   "execution_count": 29,
   "metadata": {
    "execution": {
     "iopub.execute_input": "2023-03-06T09:34:29.896024Z",
     "iopub.status.busy": "2023-03-06T09:34:29.895503Z",
     "iopub.status.idle": "2023-03-06T09:34:29.904189Z",
     "shell.execute_reply": "2023-03-06T09:34:29.902904Z",
     "shell.execute_reply.started": "2023-03-06T09:34:29.895974Z"
    },
    "id": "GRQLNGdv5HMU",
    "tags": []
   },
   "outputs": [],
   "source": [
    "# item_code_by_item_name : 종목명으로 종목번호 가져오기\n",
    "# find_item_list : 종목번호로 해당연도 데이터 가져오기\n",
    "# find_item_list는 year 값이 없으면 기본으로 2020년 데이터를 선택\n",
    "\n",
    "def find_item_list(item_name, year=2020):\n",
    "    \"\"\"\n",
    "    종목명을 넘겨주면 일별시세를 반환하는 함수\n",
    "    내부에서 종목명으로 종목코드를 반환하는 함수(item_code_by_item_name)로\n",
    "    종목의 시세를 수집합니다.\n",
    "    \"\"\"\n",
    "    item_code = item_code_by_item_name(item_name)\n",
    "    if item_code:\n",
    "        df_day = fdr.DataReader(item_code, str(year))\n",
    "        return df_day\n",
    "    else:\n",
    "        return False"
   ]
  },
  {
   "cell_type": "code",
   "execution_count": 30,
   "metadata": {
    "execution": {
     "iopub.execute_input": "2023-03-06T09:34:31.245254Z",
     "iopub.status.busy": "2023-03-06T09:34:31.244739Z",
     "iopub.status.idle": "2023-03-06T09:34:31.450007Z",
     "shell.execute_reply": "2023-03-06T09:34:31.448779Z",
     "shell.execute_reply.started": "2023-03-06T09:34:31.245204Z"
    },
    "tags": []
   },
   "outputs": [
    {
     "data": {
      "text/html": [
       "<div>\n",
       "<style scoped>\n",
       "    .dataframe tbody tr th:only-of-type {\n",
       "        vertical-align: middle;\n",
       "    }\n",
       "\n",
       "    .dataframe tbody tr th {\n",
       "        vertical-align: top;\n",
       "    }\n",
       "\n",
       "    .dataframe thead th {\n",
       "        text-align: right;\n",
       "    }\n",
       "</style>\n",
       "<table border=\"1\" class=\"dataframe\">\n",
       "  <thead>\n",
       "    <tr style=\"text-align: right;\">\n",
       "      <th></th>\n",
       "      <th>Open</th>\n",
       "      <th>High</th>\n",
       "      <th>Low</th>\n",
       "      <th>Close</th>\n",
       "      <th>Volume</th>\n",
       "      <th>Change</th>\n",
       "    </tr>\n",
       "    <tr>\n",
       "      <th>Date</th>\n",
       "      <th></th>\n",
       "      <th></th>\n",
       "      <th></th>\n",
       "      <th></th>\n",
       "      <th></th>\n",
       "      <th></th>\n",
       "    </tr>\n",
       "  </thead>\n",
       "  <tbody>\n",
       "    <tr>\n",
       "      <th>2017-01-02</th>\n",
       "      <td>155820</td>\n",
       "      <td>157621</td>\n",
       "      <td>155219</td>\n",
       "      <td>155620</td>\n",
       "      <td>30777</td>\n",
       "      <td>0.002577</td>\n",
       "    </tr>\n",
       "    <tr>\n",
       "      <th>2017-01-03</th>\n",
       "      <td>155618</td>\n",
       "      <td>155618</td>\n",
       "      <td>153616</td>\n",
       "      <td>153617</td>\n",
       "      <td>51766</td>\n",
       "      <td>-0.012871</td>\n",
       "    </tr>\n",
       "    <tr>\n",
       "      <th>2017-01-04</th>\n",
       "      <td>155220</td>\n",
       "      <td>162230</td>\n",
       "      <td>154419</td>\n",
       "      <td>162230</td>\n",
       "      <td>120359</td>\n",
       "      <td>0.056068</td>\n",
       "    </tr>\n",
       "    <tr>\n",
       "      <th>2017-01-05</th>\n",
       "      <td>162228</td>\n",
       "      <td>162228</td>\n",
       "      <td>158423</td>\n",
       "      <td>158424</td>\n",
       "      <td>68724</td>\n",
       "      <td>-0.023461</td>\n",
       "    </tr>\n",
       "    <tr>\n",
       "      <th>2017-01-06</th>\n",
       "      <td>158423</td>\n",
       "      <td>160426</td>\n",
       "      <td>157422</td>\n",
       "      <td>160026</td>\n",
       "      <td>50269</td>\n",
       "      <td>0.010112</td>\n",
       "    </tr>\n",
       "    <tr>\n",
       "      <th>...</th>\n",
       "      <td>...</td>\n",
       "      <td>...</td>\n",
       "      <td>...</td>\n",
       "      <td>...</td>\n",
       "      <td>...</td>\n",
       "      <td>...</td>\n",
       "    </tr>\n",
       "    <tr>\n",
       "      <th>2023-02-27</th>\n",
       "      <td>204000</td>\n",
       "      <td>209000</td>\n",
       "      <td>204000</td>\n",
       "      <td>208000</td>\n",
       "      <td>930467</td>\n",
       "      <td>0.000000</td>\n",
       "    </tr>\n",
       "    <tr>\n",
       "      <th>2023-02-28</th>\n",
       "      <td>209500</td>\n",
       "      <td>212000</td>\n",
       "      <td>207500</td>\n",
       "      <td>208500</td>\n",
       "      <td>848323</td>\n",
       "      <td>0.002404</td>\n",
       "    </tr>\n",
       "    <tr>\n",
       "      <th>2023-03-02</th>\n",
       "      <td>207500</td>\n",
       "      <td>209500</td>\n",
       "      <td>205000</td>\n",
       "      <td>206000</td>\n",
       "      <td>817689</td>\n",
       "      <td>-0.011990</td>\n",
       "    </tr>\n",
       "    <tr>\n",
       "      <th>2023-03-03</th>\n",
       "      <td>207500</td>\n",
       "      <td>210500</td>\n",
       "      <td>205500</td>\n",
       "      <td>205500</td>\n",
       "      <td>729689</td>\n",
       "      <td>-0.002427</td>\n",
       "    </tr>\n",
       "    <tr>\n",
       "      <th>2023-03-06</th>\n",
       "      <td>208500</td>\n",
       "      <td>214500</td>\n",
       "      <td>208500</td>\n",
       "      <td>214500</td>\n",
       "      <td>1049143</td>\n",
       "      <td>0.043796</td>\n",
       "    </tr>\n",
       "  </tbody>\n",
       "</table>\n",
       "<p>1518 rows × 6 columns</p>\n",
       "</div>"
      ],
      "text/plain": [
       "              Open    High     Low   Close   Volume    Change\n",
       "Date                                                         \n",
       "2017-01-02  155820  157621  155219  155620    30777  0.002577\n",
       "2017-01-03  155618  155618  153616  153617    51766 -0.012871\n",
       "2017-01-04  155220  162230  154419  162230   120359  0.056068\n",
       "2017-01-05  162228  162228  158423  158424    68724 -0.023461\n",
       "2017-01-06  158423  160426  157422  160026    50269  0.010112\n",
       "...            ...     ...     ...     ...      ...       ...\n",
       "2023-02-27  204000  209000  204000  208000   930467  0.000000\n",
       "2023-02-28  209500  212000  207500  208500   848323  0.002404\n",
       "2023-03-02  207500  209500  205000  206000   817689 -0.011990\n",
       "2023-03-03  207500  210500  205500  205500   729689 -0.002427\n",
       "2023-03-06  208500  214500  208500  214500  1049143  0.043796\n",
       "\n",
       "[1518 rows x 6 columns]"
      ]
     },
     "execution_count": 30,
     "metadata": {},
     "output_type": "execute_result"
    }
   ],
   "source": [
    "find_item_list(\"NAVER\", 2017)"
   ]
  },
  {
   "cell_type": "markdown",
   "metadata": {
    "id": "6UCk0UYn9yXR"
   },
   "source": [
    "### 종목명으로 일별 시세를 잘 가져오는지 확인하기"
   ]
  },
  {
   "cell_type": "code",
   "execution_count": 31,
   "metadata": {
    "execution": {
     "iopub.execute_input": "2023-03-06T09:34:31.574456Z",
     "iopub.status.busy": "2023-03-06T09:34:31.574082Z",
     "iopub.status.idle": "2023-03-06T09:34:31.775532Z",
     "shell.execute_reply": "2023-03-06T09:34:31.774376Z",
     "shell.execute_reply.started": "2023-03-06T09:34:31.574416Z"
    },
    "id": "fFnQ4fR75HMU",
    "tags": []
   },
   "outputs": [
    {
     "data": {
      "text/html": [
       "<div>\n",
       "<style scoped>\n",
       "    .dataframe tbody tr th:only-of-type {\n",
       "        vertical-align: middle;\n",
       "    }\n",
       "\n",
       "    .dataframe tbody tr th {\n",
       "        vertical-align: top;\n",
       "    }\n",
       "\n",
       "    .dataframe thead th {\n",
       "        text-align: right;\n",
       "    }\n",
       "</style>\n",
       "<table border=\"1\" class=\"dataframe\">\n",
       "  <thead>\n",
       "    <tr style=\"text-align: right;\">\n",
       "      <th></th>\n",
       "      <th>Open</th>\n",
       "      <th>High</th>\n",
       "      <th>Low</th>\n",
       "      <th>Close</th>\n",
       "      <th>Volume</th>\n",
       "      <th>Change</th>\n",
       "    </tr>\n",
       "    <tr>\n",
       "      <th>Date</th>\n",
       "      <th></th>\n",
       "      <th></th>\n",
       "      <th></th>\n",
       "      <th></th>\n",
       "      <th></th>\n",
       "      <th></th>\n",
       "    </tr>\n",
       "  </thead>\n",
       "  <tbody>\n",
       "    <tr>\n",
       "      <th>2020-01-02</th>\n",
       "      <td>321000</td>\n",
       "      <td>321000</td>\n",
       "      <td>313500</td>\n",
       "      <td>314000</td>\n",
       "      <td>139496</td>\n",
       "      <td>-0.011024</td>\n",
       "    </tr>\n",
       "    <tr>\n",
       "      <th>2020-01-03</th>\n",
       "      <td>317000</td>\n",
       "      <td>318500</td>\n",
       "      <td>310500</td>\n",
       "      <td>311000</td>\n",
       "      <td>165030</td>\n",
       "      <td>-0.009554</td>\n",
       "    </tr>\n",
       "    <tr>\n",
       "      <th>2020-01-06</th>\n",
       "      <td>308000</td>\n",
       "      <td>311000</td>\n",
       "      <td>306500</td>\n",
       "      <td>307000</td>\n",
       "      <td>138154</td>\n",
       "      <td>-0.012862</td>\n",
       "    </tr>\n",
       "    <tr>\n",
       "      <th>2020-01-07</th>\n",
       "      <td>306000</td>\n",
       "      <td>313500</td>\n",
       "      <td>305000</td>\n",
       "      <td>311000</td>\n",
       "      <td>133788</td>\n",
       "      <td>0.013029</td>\n",
       "    </tr>\n",
       "    <tr>\n",
       "      <th>2020-01-08</th>\n",
       "      <td>306000</td>\n",
       "      <td>307000</td>\n",
       "      <td>301500</td>\n",
       "      <td>302000</td>\n",
       "      <td>225471</td>\n",
       "      <td>-0.028939</td>\n",
       "    </tr>\n",
       "    <tr>\n",
       "      <th>...</th>\n",
       "      <td>...</td>\n",
       "      <td>...</td>\n",
       "      <td>...</td>\n",
       "      <td>...</td>\n",
       "      <td>...</td>\n",
       "      <td>...</td>\n",
       "    </tr>\n",
       "    <tr>\n",
       "      <th>2023-02-27</th>\n",
       "      <td>661000</td>\n",
       "      <td>666000</td>\n",
       "      <td>651000</td>\n",
       "      <td>657000</td>\n",
       "      <td>175530</td>\n",
       "      <td>-0.017937</td>\n",
       "    </tr>\n",
       "    <tr>\n",
       "      <th>2023-02-28</th>\n",
       "      <td>663000</td>\n",
       "      <td>684000</td>\n",
       "      <td>659000</td>\n",
       "      <td>680000</td>\n",
       "      <td>252098</td>\n",
       "      <td>0.035008</td>\n",
       "    </tr>\n",
       "    <tr>\n",
       "      <th>2023-03-02</th>\n",
       "      <td>672000</td>\n",
       "      <td>684000</td>\n",
       "      <td>671000</td>\n",
       "      <td>678000</td>\n",
       "      <td>174629</td>\n",
       "      <td>-0.002941</td>\n",
       "    </tr>\n",
       "    <tr>\n",
       "      <th>2023-03-03</th>\n",
       "      <td>687000</td>\n",
       "      <td>707000</td>\n",
       "      <td>684000</td>\n",
       "      <td>703000</td>\n",
       "      <td>236335</td>\n",
       "      <td>0.036873</td>\n",
       "    </tr>\n",
       "    <tr>\n",
       "      <th>2023-03-06</th>\n",
       "      <td>722000</td>\n",
       "      <td>727000</td>\n",
       "      <td>711000</td>\n",
       "      <td>726000</td>\n",
       "      <td>273754</td>\n",
       "      <td>0.032717</td>\n",
       "    </tr>\n",
       "  </tbody>\n",
       "</table>\n",
       "<p>785 rows × 6 columns</p>\n",
       "</div>"
      ],
      "text/plain": [
       "              Open    High     Low   Close  Volume    Change\n",
       "Date                                                        \n",
       "2020-01-02  321000  321000  313500  314000  139496 -0.011024\n",
       "2020-01-03  317000  318500  310500  311000  165030 -0.009554\n",
       "2020-01-06  308000  311000  306500  307000  138154 -0.012862\n",
       "2020-01-07  306000  313500  305000  311000  133788  0.013029\n",
       "2020-01-08  306000  307000  301500  302000  225471 -0.028939\n",
       "...            ...     ...     ...     ...     ...       ...\n",
       "2023-02-27  661000  666000  651000  657000  175530 -0.017937\n",
       "2023-02-28  663000  684000  659000  680000  252098  0.035008\n",
       "2023-03-02  672000  684000  671000  678000  174629 -0.002941\n",
       "2023-03-03  687000  707000  684000  703000  236335  0.036873\n",
       "2023-03-06  722000  727000  711000  726000  273754  0.032717\n",
       "\n",
       "[785 rows x 6 columns]"
      ]
     },
     "execution_count": 31,
     "metadata": {},
     "output_type": "execute_result"
    }
   ],
   "source": [
    "# LG화학의 데이터를 가져옵니다.\n",
    "find_item_list(\"LG화학\")"
   ]
  },
  {
   "cell_type": "code",
   "execution_count": 34,
   "metadata": {
    "execution": {
     "iopub.execute_input": "2023-03-06T09:34:44.205880Z",
     "iopub.status.busy": "2023-03-06T09:34:44.205292Z",
     "iopub.status.idle": "2023-03-06T09:34:44.339379Z",
     "shell.execute_reply": "2023-03-06T09:34:44.338125Z",
     "shell.execute_reply.started": "2023-03-06T09:34:44.205828Z"
    },
    "id": "r93FJRnk5HMU",
    "tags": []
   },
   "outputs": [
    {
     "data": {
      "text/html": [
       "<div>\n",
       "<style scoped>\n",
       "    .dataframe tbody tr th:only-of-type {\n",
       "        vertical-align: middle;\n",
       "    }\n",
       "\n",
       "    .dataframe tbody tr th {\n",
       "        vertical-align: top;\n",
       "    }\n",
       "\n",
       "    .dataframe thead th {\n",
       "        text-align: right;\n",
       "    }\n",
       "</style>\n",
       "<table border=\"1\" class=\"dataframe\">\n",
       "  <thead>\n",
       "    <tr style=\"text-align: right;\">\n",
       "      <th></th>\n",
       "      <th>Open</th>\n",
       "      <th>High</th>\n",
       "      <th>Low</th>\n",
       "      <th>Close</th>\n",
       "      <th>Volume</th>\n",
       "      <th>Change</th>\n",
       "    </tr>\n",
       "    <tr>\n",
       "      <th>Date</th>\n",
       "      <th></th>\n",
       "      <th></th>\n",
       "      <th></th>\n",
       "      <th></th>\n",
       "      <th></th>\n",
       "      <th></th>\n",
       "    </tr>\n",
       "  </thead>\n",
       "  <tbody>\n",
       "    <tr>\n",
       "      <th>2021-09-17</th>\n",
       "      <td>111000</td>\n",
       "      <td>135000</td>\n",
       "      <td>91000</td>\n",
       "      <td>111500</td>\n",
       "      <td>17373529</td>\n",
       "      <td>NaN</td>\n",
       "    </tr>\n",
       "    <tr>\n",
       "      <th>2021-09-23</th>\n",
       "      <td>112000</td>\n",
       "      <td>113000</td>\n",
       "      <td>99000</td>\n",
       "      <td>99100</td>\n",
       "      <td>2914293</td>\n",
       "      <td>-0.111211</td>\n",
       "    </tr>\n",
       "    <tr>\n",
       "      <th>2021-09-24</th>\n",
       "      <td>100000</td>\n",
       "      <td>102000</td>\n",
       "      <td>95500</td>\n",
       "      <td>99200</td>\n",
       "      <td>2262592</td>\n",
       "      <td>0.001009</td>\n",
       "    </tr>\n",
       "    <tr>\n",
       "      <th>2021-09-27</th>\n",
       "      <td>98300</td>\n",
       "      <td>99400</td>\n",
       "      <td>96500</td>\n",
       "      <td>97000</td>\n",
       "      <td>672212</td>\n",
       "      <td>-0.022177</td>\n",
       "    </tr>\n",
       "    <tr>\n",
       "      <th>2021-09-28</th>\n",
       "      <td>98000</td>\n",
       "      <td>103000</td>\n",
       "      <td>97000</td>\n",
       "      <td>100000</td>\n",
       "      <td>1037427</td>\n",
       "      <td>0.030928</td>\n",
       "    </tr>\n",
       "    <tr>\n",
       "      <th>...</th>\n",
       "      <td>...</td>\n",
       "      <td>...</td>\n",
       "      <td>...</td>\n",
       "      <td>...</td>\n",
       "      <td>...</td>\n",
       "      <td>...</td>\n",
       "    </tr>\n",
       "    <tr>\n",
       "      <th>2023-02-27</th>\n",
       "      <td>110800</td>\n",
       "      <td>110800</td>\n",
       "      <td>107800</td>\n",
       "      <td>108900</td>\n",
       "      <td>106888</td>\n",
       "      <td>-0.018034</td>\n",
       "    </tr>\n",
       "    <tr>\n",
       "      <th>2023-02-28</th>\n",
       "      <td>110100</td>\n",
       "      <td>110300</td>\n",
       "      <td>105700</td>\n",
       "      <td>106400</td>\n",
       "      <td>285204</td>\n",
       "      <td>-0.022957</td>\n",
       "    </tr>\n",
       "    <tr>\n",
       "      <th>2023-03-02</th>\n",
       "      <td>106400</td>\n",
       "      <td>108300</td>\n",
       "      <td>105800</td>\n",
       "      <td>105900</td>\n",
       "      <td>200557</td>\n",
       "      <td>-0.004699</td>\n",
       "    </tr>\n",
       "    <tr>\n",
       "      <th>2023-03-03</th>\n",
       "      <td>106400</td>\n",
       "      <td>106500</td>\n",
       "      <td>103900</td>\n",
       "      <td>104200</td>\n",
       "      <td>295958</td>\n",
       "      <td>-0.016053</td>\n",
       "    </tr>\n",
       "    <tr>\n",
       "      <th>2023-03-06</th>\n",
       "      <td>104800</td>\n",
       "      <td>105300</td>\n",
       "      <td>101300</td>\n",
       "      <td>102100</td>\n",
       "      <td>402109</td>\n",
       "      <td>-0.020154</td>\n",
       "    </tr>\n",
       "  </tbody>\n",
       "</table>\n",
       "<p>359 rows × 6 columns</p>\n",
       "</div>"
      ],
      "text/plain": [
       "              Open    High     Low   Close    Volume    Change\n",
       "Date                                                          \n",
       "2021-09-17  111000  135000   91000  111500  17373529       NaN\n",
       "2021-09-23  112000  113000   99000   99100   2914293 -0.111211\n",
       "2021-09-24  100000  102000   95500   99200   2262592  0.001009\n",
       "2021-09-27   98300   99400   96500   97000    672212 -0.022177\n",
       "2021-09-28   98000  103000   97000  100000   1037427  0.030928\n",
       "...            ...     ...     ...     ...       ...       ...\n",
       "2023-02-27  110800  110800  107800  108900    106888 -0.018034\n",
       "2023-02-28  110100  110300  105700  106400    285204 -0.022957\n",
       "2023-03-02  106400  108300  105800  105900    200557 -0.004699\n",
       "2023-03-03  106400  106500  103900  104200    295958 -0.016053\n",
       "2023-03-06  104800  105300  101300  102100    402109 -0.020154\n",
       "\n",
       "[359 rows x 6 columns]"
      ]
     },
     "execution_count": 34,
     "metadata": {},
     "output_type": "execute_result"
    }
   ],
   "source": [
    "# 빅히트의 데이터를 가져옵니다.\n",
    "# stock_daily 변수에 담습니다.\n",
    "stock_daily = find_item_list(\"현대중공업\")\n",
    "stock_daily"
   ]
  },
  {
   "cell_type": "markdown",
   "metadata": {},
   "source": [
    "## 개별종목 시세 시각화\n",
    "### pandas 의 plot으로 시각화 하기"
   ]
  },
  {
   "cell_type": "code",
   "execution_count": 35,
   "metadata": {
    "execution": {
     "iopub.execute_input": "2023-03-06T09:34:46.025527Z",
     "iopub.status.busy": "2023-03-06T09:34:46.025008Z",
     "iopub.status.idle": "2023-03-06T09:34:46.316275Z",
     "shell.execute_reply": "2023-03-06T09:34:46.315208Z",
     "shell.execute_reply.started": "2023-03-06T09:34:46.025475Z"
    },
    "tags": []
   },
   "outputs": [
    {
     "data": {
      "text/plain": [
       "<Axes: xlabel='Date'>"
      ]
     },
     "execution_count": 35,
     "metadata": {},
     "output_type": "execute_result"
    },
    {
     "data": {
      "image/png": "[encoded data removed]",
      "text/plain": [
       "<Figure size 640x480 with 1 Axes>"
      ]
     },
     "metadata": {},
     "output_type": "display_data"
    }
   ],
   "source": [
    "# stock_daily 변수에 할당된 수집된 데이터의 종가 그래프를 그립니다.\n",
    "stock_daily[\"Close\"].plot()"
   ]
  },
  {
   "cell_type": "code",
   "execution_count": 36,
   "metadata": {
    "execution": {
     "iopub.execute_input": "2023-03-06T09:34:47.435334Z",
     "iopub.status.busy": "2023-03-06T09:34:47.435109Z",
     "iopub.status.idle": "2023-03-06T09:34:47.759875Z",
     "shell.execute_reply": "2023-03-06T09:34:47.758806Z",
     "shell.execute_reply.started": "2023-03-06T09:34:47.435312Z"
    },
    "tags": []
   },
   "outputs": [
    {
     "data": {
      "text/plain": [
       "<Axes: xlabel='Date'>"
      ]
     },
     "execution_count": 36,
     "metadata": {},
     "output_type": "execute_result"
    },
    {
     "data": {
      "image/png": "[encoded data removed]",
      "text/plain": [
       "<Figure size 640x480 with 1 Axes>"
      ]
     },
     "metadata": {},
     "output_type": "display_data"
    }
   ],
   "source": [
    "# 전체 데이터프레임을 plot() 으로 시각화 하면 수치 데이터 전체를 선그래프로 그립니다.\n",
    "stock_daily.plot()"
   ]
  },
  {
   "cell_type": "markdown",
   "metadata": {},
   "source": [
    "### 서브플롯 그리기"
   ]
  },
  {
   "cell_type": "code",
   "execution_count": 37,
   "metadata": {
    "execution": {
     "iopub.execute_input": "2023-03-06T09:34:48.845556Z",
     "iopub.status.busy": "2023-03-06T09:34:48.844925Z",
     "iopub.status.idle": "2023-03-06T09:34:51.131217Z",
     "shell.execute_reply": "2023-03-06T09:34:51.130480Z",
     "shell.execute_reply.started": "2023-03-06T09:34:48.845500Z"
    },
    "id": "0TThx3Vq5HMU",
    "tags": []
   },
   "outputs": [
    {
     "data": {
      "image/png": "[encoded data removed]",
      "text/plain": [
       "<Figure size 1000x800 with 6 Axes>"
      ]
     },
     "metadata": {},
     "output_type": "display_data"
    }
   ],
   "source": [
    "# 수집한 종목의 선그래프를 Pandas 로 그립니다.\n",
    "# 스케일이 다르기 때문에 subplots를 사용해 그려봅니다.\n",
    "g = stock_daily.plot(subplots=True, figsize=(10, 8))"
   ]
  },
  {
   "cell_type": "code",
   "execution_count": 38,
   "metadata": {
    "execution": {
     "iopub.execute_input": "2023-03-06T09:34:51.133191Z",
     "iopub.status.busy": "2023-03-06T09:34:51.132944Z",
     "iopub.status.idle": "2023-03-06T09:34:52.313132Z",
     "shell.execute_reply": "2023-03-06T09:34:52.312476Z",
     "shell.execute_reply.started": "2023-03-06T09:34:51.133167Z"
    },
    "tags": []
   },
   "outputs": [
    {
     "data": {
      "image/png": "[encoded data removed]",
      "text/plain": [
       "<Figure size 1000x800 with 6 Axes>"
      ]
     },
     "metadata": {},
     "output_type": "display_data"
    }
   ],
   "source": [
    "# 히스토그램 그리기\n",
    "h = stock_daily.hist(figsize=(10, 8), bins=20)"
   ]
  },
  {
   "cell_type": "markdown",
   "metadata": {},
   "source": [
    "### 2축 그래프 그리기"
   ]
  },
  {
   "cell_type": "code",
   "execution_count": 39,
   "metadata": {
    "execution": {
     "iopub.execute_input": "2023-03-06T09:34:52.314306Z",
     "iopub.status.busy": "2023-03-06T09:34:52.314094Z",
     "iopub.status.idle": "2023-03-06T09:34:52.699361Z",
     "shell.execute_reply": "2023-03-06T09:34:52.698708Z",
     "shell.execute_reply.started": "2023-03-06T09:34:52.314285Z"
    },
    "tags": []
   },
   "outputs": [
    {
     "data": {
      "text/plain": [
       "<Axes: xlabel='Date'>"
      ]
     },
     "execution_count": 39,
     "metadata": {},
     "output_type": "execute_result"
    },
    {
     "data": {
      "image/png": "[encoded data removed]",
      "text/plain": [
       "<Figure size 640x480 with 2 Axes>"
      ]
     },
     "metadata": {},
     "output_type": "display_data"
    }
   ],
   "source": [
    "# secondary_y 옵션을 통한 종가와 거래량에 대한 2축 그래프 그리기\n",
    "stock_daily[[\"Close\", \"Volume\"]].plot(secondary_y=\"Volume\")"
   ]
  },
  {
   "cell_type": "markdown",
   "metadata": {},
   "source": [
    "### 과학적 기수법\n",
    "* 참고 : E notation\n",
    "[과학적 기수법 - 위키백과, 우리 모두의 백과사전](https://ko.wikipedia.org/wiki/%EA%B3%BC%ED%95%99%EC%A0%81_%EA%B8%B0%EC%88%98%EB%B2%95)\n",
    "\n",
    "과학적 기수법, 과학적 표기법(scientific notation, scientific form, standard index form, standard form)은 너무 크거나 너무 작은 숫자들을 십진법으로 편하게 작성하여 표현하는 방법이다. 과학자, 수학자, 공학자들이 공통적으로 사용하는데, 부분적인 이유는 특정한 산술을 단순화시켜 주기 때문이다. 과학 계산기에서는 \"SCI\" 디스플레이 모드라는 이름으로 알려져 있다."
   ]
  },
  {
   "cell_type": "code",
   "execution_count": 40,
   "metadata": {
    "execution": {
     "iopub.execute_input": "2023-03-06T09:34:52.701448Z",
     "iopub.status.busy": "2023-03-06T09:34:52.701237Z",
     "iopub.status.idle": "2023-03-06T09:34:52.706569Z",
     "shell.execute_reply": "2023-03-06T09:34:52.705949Z",
     "shell.execute_reply.started": "2023-03-06T09:34:52.701426Z"
    },
    "tags": []
   },
   "outputs": [
    {
     "data": {
      "text/plain": [
       "'1,000,000.0'"
      ]
     },
     "execution_count": 40,
     "metadata": {},
     "output_type": "execute_result"
    }
   ],
   "source": [
    "format(1e6, \",\")"
   ]
  },
  {
   "cell_type": "code",
   "execution_count": 41,
   "metadata": {
    "execution": {
     "iopub.execute_input": "2023-03-06T09:34:52.707904Z",
     "iopub.status.busy": "2023-03-06T09:34:52.707676Z",
     "iopub.status.idle": "2023-03-06T09:34:52.713341Z",
     "shell.execute_reply": "2023-03-06T09:34:52.712705Z",
     "shell.execute_reply.started": "2023-03-06T09:34:52.707881Z"
    },
    "tags": []
   },
   "outputs": [
    {
     "data": {
      "text/plain": [
       "'1,000,000'"
      ]
     },
     "execution_count": 41,
     "metadata": {},
     "output_type": "execute_result"
    }
   ],
   "source": [
    "format(10**6, \",\")"
   ]
  },
  {
   "cell_type": "code",
   "execution_count": 42,
   "metadata": {
    "execution": {
     "iopub.execute_input": "2023-03-06T09:34:52.714476Z",
     "iopub.status.busy": "2023-03-06T09:34:52.714187Z",
     "iopub.status.idle": "2023-03-06T09:34:52.737092Z",
     "shell.execute_reply": "2023-03-06T09:34:52.736247Z",
     "shell.execute_reply.started": "2023-03-06T09:34:52.714453Z"
    },
    "tags": []
   },
   "outputs": [
    {
     "data": {
      "text/html": [
       "<div>\n",
       "<style scoped>\n",
       "    .dataframe tbody tr th:only-of-type {\n",
       "        vertical-align: middle;\n",
       "    }\n",
       "\n",
       "    .dataframe tbody tr th {\n",
       "        vertical-align: top;\n",
       "    }\n",
       "\n",
       "    .dataframe thead th {\n",
       "        text-align: right;\n",
       "    }\n",
       "</style>\n",
       "<table border=\"1\" class=\"dataframe\">\n",
       "  <thead>\n",
       "    <tr style=\"text-align: right;\">\n",
       "      <th></th>\n",
       "      <th>Open</th>\n",
       "      <th>High</th>\n",
       "      <th>Low</th>\n",
       "      <th>Close</th>\n",
       "      <th>Volume</th>\n",
       "      <th>Change</th>\n",
       "    </tr>\n",
       "  </thead>\n",
       "  <tbody>\n",
       "    <tr>\n",
       "      <th>count</th>\n",
       "      <td>359.000000</td>\n",
       "      <td>359.000000</td>\n",
       "      <td>359.000000</td>\n",
       "      <td>359.000000</td>\n",
       "      <td>3.590000e+02</td>\n",
       "      <td>358.000000</td>\n",
       "    </tr>\n",
       "    <tr>\n",
       "      <th>mean</th>\n",
       "      <td>116476.601671</td>\n",
       "      <td>119029.526462</td>\n",
       "      <td>114042.896936</td>\n",
       "      <td>116462.674095</td>\n",
       "      <td>3.416331e+05</td>\n",
       "      <td>0.000161</td>\n",
       "    </tr>\n",
       "    <tr>\n",
       "      <th>std</th>\n",
       "      <td>12763.670889</td>\n",
       "      <td>13278.746304</td>\n",
       "      <td>12235.462174</td>\n",
       "      <td>12875.258834</td>\n",
       "      <td>9.489609e+05</td>\n",
       "      <td>0.028595</td>\n",
       "    </tr>\n",
       "    <tr>\n",
       "      <th>min</th>\n",
       "      <td>90000.000000</td>\n",
       "      <td>92800.000000</td>\n",
       "      <td>89700.000000</td>\n",
       "      <td>91500.000000</td>\n",
       "      <td>5.023400e+04</td>\n",
       "      <td>-0.111211</td>\n",
       "    </tr>\n",
       "    <tr>\n",
       "      <th>25%</th>\n",
       "      <td>108250.000000</td>\n",
       "      <td>110000.000000</td>\n",
       "      <td>106000.000000</td>\n",
       "      <td>108050.000000</td>\n",
       "      <td>1.583000e+05</td>\n",
       "      <td>-0.018868</td>\n",
       "    </tr>\n",
       "    <tr>\n",
       "      <th>50%</th>\n",
       "      <td>114500.000000</td>\n",
       "      <td>117000.000000</td>\n",
       "      <td>112500.000000</td>\n",
       "      <td>114500.000000</td>\n",
       "      <td>2.215760e+05</td>\n",
       "      <td>0.000000</td>\n",
       "    </tr>\n",
       "    <tr>\n",
       "      <th>75%</th>\n",
       "      <td>123250.000000</td>\n",
       "      <td>126500.000000</td>\n",
       "      <td>120500.000000</td>\n",
       "      <td>123500.000000</td>\n",
       "      <td>3.197530e+05</td>\n",
       "      <td>0.015059</td>\n",
       "    </tr>\n",
       "    <tr>\n",
       "      <th>max</th>\n",
       "      <td>155500.000000</td>\n",
       "      <td>161500.000000</td>\n",
       "      <td>148000.000000</td>\n",
       "      <td>153500.000000</td>\n",
       "      <td>1.737353e+07</td>\n",
       "      <td>0.087719</td>\n",
       "    </tr>\n",
       "  </tbody>\n",
       "</table>\n",
       "</div>"
      ],
      "text/plain": [
       "                Open           High            Low          Close  \\\n",
       "count     359.000000     359.000000     359.000000     359.000000   \n",
       "mean   116476.601671  119029.526462  114042.896936  116462.674095   \n",
       "std     12763.670889   13278.746304   12235.462174   12875.258834   \n",
       "min     90000.000000   92800.000000   89700.000000   91500.000000   \n",
       "25%    108250.000000  110000.000000  106000.000000  108050.000000   \n",
       "50%    114500.000000  117000.000000  112500.000000  114500.000000   \n",
       "75%    123250.000000  126500.000000  120500.000000  123500.000000   \n",
       "max    155500.000000  161500.000000  148000.000000  153500.000000   \n",
       "\n",
       "             Volume      Change  \n",
       "count  3.590000e+02  358.000000  \n",
       "mean   3.416331e+05    0.000161  \n",
       "std    9.489609e+05    0.028595  \n",
       "min    5.023400e+04   -0.111211  \n",
       "25%    1.583000e+05   -0.018868  \n",
       "50%    2.215760e+05    0.000000  \n",
       "75%    3.197530e+05    0.015059  \n",
       "max    1.737353e+07    0.087719  "
      ]
     },
     "execution_count": 42,
     "metadata": {},
     "output_type": "execute_result"
    }
   ],
   "source": [
    "stock_daily.describe()"
   ]
  },
  {
   "cell_type": "code",
   "execution_count": null,
   "metadata": {},
   "outputs": [],
   "source": []
  }
 ],
 "metadata": {
  "colab": {
   "collapsed_sections": [],
   "name": "2. FinanceDataReader를 통한 개별종목 수집하기.ipynb",
   "provenance": []
  },
  "kernelspec": {
   "display_name": "Python 3 (ipykernel)",
   "language": "python",
   "name": "python3"
  },
  "language_info": {
   "codemirror_mode": {
    "name": "ipython",
    "version": 3
   },
   "file_extension": ".py",
   "mimetype": "text/x-python",
   "name": "python",
   "nbconvert_exporter": "python",
   "pygments_lexer": "ipython3",
   "version": "3.10.9"
  },
  "toc": {
   "base_numbering": 1,
   "nav_menu": {},
   "number_sections": true,
   "sideBar": true,
   "skip_h1_title": false,
   "title_cell": "Table of Contents",
   "title_sidebar": "Contents",
   "toc_cell": false,
   "toc_position": {
    "height": "calc(100% - 180px)",
    "left": "10px",
    "top": "150px",
    "width": "256px"
   },
   "toc_section_display": true,
   "toc_window_display": true
  },
  "varInspector": {
   "cols": {
    "lenName": 16,
    "lenType": 16,
    "lenVar": 40
   },
   "kernels_config": {
    "python": {
     "delete_cmd_postfix": "",
     "delete_cmd_prefix": "del ",
     "library": "var_list.py",
     "varRefreshCmd": "print(var_dic_list())"
    },
    "r": {
     "delete_cmd_postfix": ") ",
     "delete_cmd_prefix": "rm(",
     "library": "var_list.r",
     "varRefreshCmd": "cat(var_dic_list()) "
    }
   },
   "types_to_exclude": [
    "module",
    "function",
    "builtin_function_or_method",
    "instance",
    "_Feature"
   ],
   "window_display": false
  }
 },
 "nbformat": 4,
 "nbformat_minor": 4
}
