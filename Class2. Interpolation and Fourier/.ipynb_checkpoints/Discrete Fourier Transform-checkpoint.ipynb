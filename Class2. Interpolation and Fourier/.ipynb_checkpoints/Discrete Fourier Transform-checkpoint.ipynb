{
 "cells": [
  {
   "cell_type": "markdown",
   "id": "c6a75e7f-d1af-4254-881b-dbe112198a4e",
   "metadata": {},
   "source": [
    "https://pythonnumericalmethods.berkeley.edu/notebooks/chapter24.02-Discrete-Fourier-Transform.html"
   ]
  },
  {
   "cell_type": "markdown",
   "id": "9a588b41-b0a8-4cf0-bd2c-510db44c0900",
   "metadata": {},
   "source": [
    "From the previous section, we learned how we can easily characterize a wave with period/frequency, amplitude, phase. But these are easy for simple periodic signal, such as sine or cosine waves. For complicated waves, it is not easy to characterize like that. For example, the following is a relatively more complicate waves, and it is hard to say what’s the frequency, amplitude of the wave, right?"
   ]
  },
  {
   "cell_type": "markdown",
   "id": "04c8213e-ff20-4308-abd1-b974a8aee664",
   "metadata": {},
   "source": [
    "<img src=\"https://pythonnumericalmethods.berkeley.edu/_images/24.02.01-waves_with_3sine.jpg\">"
   ]
  },
  {
   "cell_type": "markdown",
   "id": "4168a949-831e-4c9e-b4e9-7370e0e66332",
   "metadata": {},
   "source": [
    "There are more complicated cases in real world, it would be great if we have a method that we can use to analyze the characteristics of the wave. The Fourier Transform can be used for this purpose, which it decompose any signal into a sum of simple sine and cosine waves that we can easily measure the frequency, amplitude and phase. The Fourier transform can be applied to continuous or discrete waves, in this chapter, we will only talk about the Discrete Fourier Transform (DFT).\n",
    "\n",
    "Using the DFT, we can compose the above signal to a series of sinusoids and each of them will have a different frequency. The following 3D figure shows the idea behind the DFT, that the above signal is actually the results of the sum of 3 different sine waves. The time domain signal, which is the above signal we saw can be transformed into a figure in the frequency domain called DFT amplitude spectrum, where the signal frequencies are showing as vertical bars. The height of the bar after normalization is the amplitude of the signal in the time domain. You can see that the 3 vertical bars are corresponding the 3 frequencies of the sine wave, which are also plotted in the figure."
   ]
  },
  {
   "cell_type": "markdown",
   "id": "ef3b1b6a-ce4a-4112-9e8a-b95d25aa3755",
   "metadata": {},
   "source": [
    "<img src=\"https://pythonnumericalmethods.berkeley.edu/_images/24.02.02-time_frequency.png\">"
   ]
  },
  {
   "cell_type": "markdown",
   "id": "315b24c9-e80a-4f8f-970f-cca012438154",
   "metadata": {},
   "source": [
    "In this section, we will learn how to use DFT to compute and plot the DFT amplitude spectrum."
   ]
  },
  {
   "cell_type": "markdown",
   "id": "3fcf42a1-5a6a-4844-b33d-56b49acc58e9",
   "metadata": {},
   "source": [
    "# DFT"
   ]
  },
  {
   "cell_type": "markdown",
   "id": "aa8c0418-9c14-40ff-be13-a1a17819823b",
   "metadata": {},
   "source": [
    "The DFT can transform a sequence of evenly spaced signal to the information about the frequency of all the sine waves that needed to sum to the time domain signal. It is defined as:"
   ]
  },
  {
   "cell_type": "markdown",
   "id": "e6e09472-3c05-4359-87a5-53554d7082be",
   "metadata": {},
   "source": [
    "$$ X_k = \\sum_{n=0}^{N-1}{x_n\\cdot e^{-i2\\pi{kn/N}}} = \\sum_{n=0}^{N-1}{x_n[cos(2\\pi{kn/N}) -i\\cdot sin(2\\pi{kn/N})]} $$"
   ]
  },
  {
   "cell_type": "markdown",
   "id": "7bd0e150-85fa-493a-ba37-8e0c727e59b9",
   "metadata": {},
   "source": [
    "where\n",
    "\n",
    "- N = number of samples\n",
    "- n = current sample\n",
    "- k = current frequency, where 𝑘∈[0,𝑁−1]\n",
    "- $𝑥_𝑛$ = the sine value at sample n\n",
    "- $𝑋_{𝑘}$ = The DFT which include information of both amplitude and phase"
   ]
  },
  {
   "cell_type": "markdown",
   "id": "714ee40c-3b4c-45b7-88ac-414c0086c207",
   "metadata": {},
   "source": [
    "Also, the last expression in the above equation derived from the Euler’s formula, which links the trigonometric functions to the complex exponential function: $e^{i\\cdot x} = cosx+i\\cdot sinx$"
   ]
  },
  {
   "cell_type": "markdown",
   "id": "f1bbdd9e-f962-497e-b9c8-4ea19e5fb399",
   "metadata": {},
   "source": [
    "Due to the nature of the transform, $X_0 = \\sum_{n=0}^{N-1}x_n$.\n",
    "\n",
    "If $N$ is an odd number, the elements $X_1, X_2, ..., X_{(N-1)/2}$ contain the positive frequency terms and the elements $X_{(N+1)/2}, ..., X_{N-1}$ contain the negative frequency terms, in order of decreasingly negative frequency.\n",
    "While if $N$ is even, the elements $X_1, X_2, ..., X_{N/2-1}$ contain the positive frequency terms, and the elements $X_{N/2},...,X_{N-1}$ contain the negative frequency terms, in order of decreasingly negative frequency. In the case that our input signal 𝑥 is a real-valued sequence, the DFT output 𝑋𝑛 for positive frequencies is the conjugate of the values 𝑋𝑛 for negative frequencies, the spectrum will be symmetric. Therefore, usually we only plot the DFT corresponding to the positive frequencies.\n",
    "\n",
    "Note that the $X_k$ is a complex number that encodes both the amplitude and phase information of a complex sinusoidal component $e^{i\\cdot 2\\pi kn/N}$ of function $x_n$.\n",
    "The amplitude and phase of the signal can be calculated as:\n",
    "$$amp = \\frac{|X_k|}{N}= \\frac{\\sqrt{Re(X_k)^2 + Im(X_k)^2}}{N}$$\n",
    "$$phase = atan2(Im(X_k), Re(X_k))$$\n",
    "\n",
    "where $Im(X_k)$ and $Re(X_k)$ are the imagery and real part of the complex number, 𝑎𝑡𝑎𝑛2 is the two-argument form of the 𝑎𝑟𝑐𝑡𝑎𝑛 function."
   ]
  },
  {
   "cell_type": "markdown",
   "id": "abaa6f0f-2c59-450e-858e-d5e1a594f516",
   "metadata": {},
   "source": [
    "The amplitudes returned by DFT equal to the amplitudes of the signals fed into the DFT if we normalize it by the number of sample points. Note that doing this will divide the power between the positive and negative sides, if the input signal is real-valued sequence as we described above, the spectrum of the positive and negative frequencies will be symmetric, therefore, we will only look at one side of the DFT result, and instead of divide 𝑁, we divide 𝑁/2 to get the amplitude corresponding to the time domain signal."
   ]
  },
  {
   "cell_type": "markdown",
   "id": "35082217-ddf1-4215-a9fe-6ad6a77ecb86",
   "metadata": {},
   "source": [
    "Now that we have the basic knowledge of DFT, let’s see how we can use it."
   ]
  },
  {
   "cell_type": "markdown",
   "id": "b1876f76-ab58-4d49-8ef3-610fb1d94104",
   "metadata": {},
   "source": [
    "TRY IT! Generate 3 sine waves with frequencies 1 Hz, 4 Hz, and 7 Hz, amplitudes 3, 1 and 0.5, and phase all zeros. Add this 3 sine waves together with a sampling rate 100 Hz, you will see that it is the same signal we just shown at the beginning of the section."
   ]
  },
  {
   "cell_type": "code",
   "execution_count": 1,
   "id": "c78a2b5f-4753-4cd4-81e7-0e98b0d36888",
   "metadata": {
    "execution": {
     "iopub.execute_input": "2023-03-06T09:22:06.209620Z",
     "iopub.status.busy": "2023-03-06T09:22:06.209029Z",
     "iopub.status.idle": "2023-03-06T09:22:06.775679Z",
     "shell.execute_reply": "2023-03-06T09:22:06.774766Z",
     "shell.execute_reply.started": "2023-03-06T09:22:06.209564Z"
    },
    "tags": []
   },
   "outputs": [
    {
     "name": "stderr",
     "output_type": "stream",
     "text": [
      "/tmp/ipykernel_85443/3986292583.py:4: MatplotlibDeprecationWarning: The seaborn styles shipped by Matplotlib are deprecated since 3.6, as they no longer correspond to the styles shipped by seaborn. However, they will remain available as 'seaborn-v0_8-<style>'. Alternatively, directly use the seaborn API instead.\n",
      "  plt.style.use('seaborn-poster')\n"
     ]
    }
   ],
   "source": [
    "import matplotlib.pyplot as plt\n",
    "import numpy as np\n",
    "\n",
    "plt.style.use('seaborn-poster')\n",
    "%matplotlib inline"
   ]
  },
  {
   "cell_type": "code",
   "execution_count": 2,
   "id": "e1ae00b2-11b1-4cad-9ab7-971224130f7a",
   "metadata": {
    "execution": {
     "iopub.execute_input": "2023-03-06T09:22:07.702462Z",
     "iopub.status.busy": "2023-03-06T09:22:07.701701Z",
     "iopub.status.idle": "2023-03-06T09:22:07.911136Z",
     "shell.execute_reply": "2023-03-06T09:22:07.910332Z",
     "shell.execute_reply.started": "2023-03-06T09:22:07.702407Z"
    },
    "tags": []
   },
   "outputs": [
    {
     "data": {
      "image/png": "[encoded data removed]",
      "text/plain": [
       "<Figure size 800x600 with 1 Axes>"
      ]
     },
     "metadata": {},
     "output_type": "display_data"
    }
   ],
   "source": [
    "# sampling rate\n",
    "sr = 100\n",
    "# sampling interval\n",
    "ts = 1.0/sr\n",
    "t = np.arange(0, 1, ts)\n",
    "\n",
    "freq = 1.\n",
    "x = 3*np.sin(2*np.pi*freq*t)\n",
    "\n",
    "freq = 4\n",
    "x += np.sin(2*np.pi*freq*t)\n",
    "\n",
    "freq = 7\n",
    "x += 0.5*np.sin(2*np.pi*freq*t)\n",
    "\n",
    "plt.figure(figsize=(8, 6))\n",
    "plt.plot(t, x, 'r')\n",
    "plt.ylabel('Amplitude')\n",
    "\n",
    "plt.show()"
   ]
  },
  {
   "cell_type": "markdown",
   "id": "9b02be00-f9d0-463f-9f51-203b98188fb8",
   "metadata": {},
   "source": [
    "TRY IT! Write a function DFT(x) which takes in one argument, x - input 1 dimensional real-valued signal. The function will calculate the DFT of the signal and return the DFT values. Apply this function to the signal we generated above and plot the result."
   ]
  },
  {
   "cell_type": "code",
   "execution_count": 3,
   "id": "cae18b4c-75ad-4b45-9279-e460a80a592b",
   "metadata": {
    "execution": {
     "iopub.execute_input": "2023-03-06T09:22:38.139034Z",
     "iopub.status.busy": "2023-03-06T09:22:38.138444Z",
     "iopub.status.idle": "2023-03-06T09:22:38.148296Z",
     "shell.execute_reply": "2023-03-06T09:22:38.146854Z",
     "shell.execute_reply.started": "2023-03-06T09:22:38.138979Z"
    },
    "tags": []
   },
   "outputs": [],
   "source": [
    "def DFT(x):\n",
    "    \"\"\"\n",
    "    Function to calculate the \n",
    "    discrete Fourier Transform \n",
    "    of a 1D real-valued signal x\n",
    "    \"\"\"\n",
    "\n",
    "    N = len(x)\n",
    "    n = np.arange(N)\n",
    "    k = n.reshape((N, 1))\n",
    "    e = np.exp(-2j * np.pi * k * n / N)\n",
    "\n",
    "    X = np.dot(e, x)\n",
    "\n",
    "    return X"
   ]
  },
  {
   "cell_type": "code",
   "execution_count": 4,
   "id": "db1f2244-149d-4b0a-a28c-e21c56258722",
   "metadata": {
    "execution": {
     "iopub.execute_input": "2023-03-06T09:22:50.413241Z",
     "iopub.status.busy": "2023-03-06T09:22:50.412648Z",
     "iopub.status.idle": "2023-03-06T09:22:50.631829Z",
     "shell.execute_reply": "2023-03-06T09:22:50.631006Z",
     "shell.execute_reply.started": "2023-03-06T09:22:50.413185Z"
    },
    "tags": []
   },
   "outputs": [
    {
     "data": {
      "image/png": "[encoded data removed]",
      "text/plain": [
       "<Figure size 800x600 with 1 Axes>"
      ]
     },
     "metadata": {},
     "output_type": "display_data"
    }
   ],
   "source": [
    "X = DFT(x)\n",
    "\n",
    "# calculate the frequency\n",
    "N = len(X)\n",
    "n = np.arange(N)\n",
    "T = N/sr\n",
    "freq = n/T \n",
    "\n",
    "plt.figure(figsize=(8, 6))\n",
    "plt.stem(freq, abs(X), 'b',\n",
    "         markerfmt=\" \", basefmt=\"-b\")\n",
    "plt.xlabel('Freq (Hz)')\n",
    "plt.ylabel('DFT Amplitude |X(freq)|')\n",
    "plt.show()"
   ]
  },
  {
   "cell_type": "markdown",
   "id": "a0ed85b6-7af7-4164-84dc-31c470855174",
   "metadata": {},
   "source": [
    "We can see from here that the output of the DFT is symmetric at half of the sampling rate (you can try different sampling rate to test). This half of the sampling rate is called Nyquist frequency or the folding frequency, it is named after the electronic engineer Harry Nyquist. He and Claude Shannon have the Nyquist-Shannon sampling theorem, which states that a signal sampled at a rate can be fully reconstructed if it contains only frequency components below half that sampling frequency, thus the highest frequency output from the DFT is half the sampling rate."
   ]
  },
  {
   "cell_type": "code",
   "execution_count": 5,
   "id": "97c9db6c-dd57-4cdd-8de4-5fa5500bfc0c",
   "metadata": {
    "execution": {
     "iopub.execute_input": "2023-03-06T09:23:06.520095Z",
     "iopub.status.busy": "2023-03-06T09:23:06.519493Z",
     "iopub.status.idle": "2023-03-06T09:23:06.913717Z",
     "shell.execute_reply": "2023-03-06T09:23:06.912933Z",
     "shell.execute_reply.started": "2023-03-06T09:23:06.520039Z"
    },
    "tags": []
   },
   "outputs": [
    {
     "data": {
      "image/png": "[encoded data removed]",
      "text/plain": [
       "<Figure size 1200x600 with 2 Axes>"
      ]
     },
     "metadata": {},
     "output_type": "display_data"
    }
   ],
   "source": [
    "n_oneside = N//2\n",
    "# get the one side frequency\n",
    "f_oneside = freq[:n_oneside]\n",
    "\n",
    "# normalize the amplitude\n",
    "X_oneside =X[:n_oneside]/n_oneside\n",
    "\n",
    "plt.figure(figsize=(12, 6))\n",
    "plt.subplot(121)\n",
    "plt.stem(f_oneside, abs(X_oneside), 'b',\n",
    "         markerfmt=\" \", basefmt=\"-b\")\n",
    "plt.xlabel('Freq (Hz)')\n",
    "plt.ylabel('DFT Amplitude |X(freq)|')\n",
    "\n",
    "plt.subplot(122)\n",
    "plt.stem(f_oneside, abs(X_oneside), 'b',\n",
    "         markerfmt=\" \", basefmt=\"-b\")\n",
    "plt.xlabel('Freq (Hz)')\n",
    "plt.xlim(0, 10)\n",
    "plt.tight_layout()\n",
    "plt.show()"
   ]
  },
  {
   "cell_type": "markdown",
   "id": "fab0d220-e327-42ad-988d-8ad45ca41b99",
   "metadata": {},
   "source": [
    "We can see by plotting the first half of the DFT results, we can see 3 clear peaks at frequency 1 Hz, 4 Hz, and 7 Hz, with amplitude 3, 1, 0.5 as expected. This is how we can use the DFT to analyze an arbitrary signal by decomposing it to simple sine waves."
   ]
  },
  {
   "cell_type": "markdown",
   "id": "5c721b07-9640-4fd3-aeb5-02c39cf11639",
   "metadata": {},
   "source": [
    "# The inverse DFT¶"
   ]
  },
  {
   "cell_type": "markdown",
   "id": "7da8b8f0-2108-405e-9ae6-bdbd3fc8d484",
   "metadata": {
    "execution": {
     "iopub.execute_input": "2023-03-06T11:50:46.732098Z",
     "iopub.status.busy": "2023-03-06T11:50:46.731483Z",
     "iopub.status.idle": "2023-03-06T11:50:46.742677Z",
     "shell.execute_reply": "2023-03-06T11:50:46.741532Z",
     "shell.execute_reply.started": "2023-03-06T11:50:46.732038Z"
    },
    "tags": []
   },
   "source": [
    "Of course, we can do the inverse transform of the DFT easily.\n",
    "\n",
    "$$x_n = \\frac{1}{N}\\sum_{k=0}^{N-1}{X_k\\cdot e^{i\\cdot 2\\pi{kn/N}}}$$\n",
    "\n",
    "We will leave this as an exercise for you to write a function."
   ]
  },
  {
   "cell_type": "markdown",
   "id": "8e086364-eba1-43da-8545-d29cebd7b95e",
   "metadata": {},
   "source": [
    "# The limit of DFT"
   ]
  },
  {
   "cell_type": "markdown",
   "id": "67a666d0-015b-4de7-82d3-bfbe33bad7bb",
   "metadata": {},
   "source": [
    "The main issue with the above DFT implementation is that it is not efficient if we have a signal with many data points. It may take a long time to compute the DFT if the signal is large.\n",
    "\n",
    "TRY IT Write a function to generate a simple signal with different sampling rate, and see the difference of computing time by varying the sampling rate."
   ]
  },
  {
   "cell_type": "code",
   "execution_count": 6,
   "id": "9fd2e3c3-459e-4458-a876-518eb9fb2cbc",
   "metadata": {
    "execution": {
     "iopub.execute_input": "2023-03-06T09:23:33.572741Z",
     "iopub.status.busy": "2023-03-06T09:23:33.572145Z",
     "iopub.status.idle": "2023-03-06T09:23:33.581282Z",
     "shell.execute_reply": "2023-03-06T09:23:33.579981Z",
     "shell.execute_reply.started": "2023-03-06T09:23:33.572685Z"
    },
    "tags": []
   },
   "outputs": [],
   "source": [
    "def gen_sig(sr):\n",
    "    '''\n",
    "    function to generate\n",
    "    a simple 1D signal with\n",
    "    different sampling rate\n",
    "    '''\n",
    "    ts = 1.0/sr\n",
    "    t = np.arange(0, 1, ts)\n",
    "\n",
    "    freq = 1.\n",
    "    x = 3*np.sin(2*np.pi*freq*t)\n",
    "    return x"
   ]
  },
  {
   "cell_type": "code",
   "execution_count": 7,
   "id": "88ab9294-9593-470b-b06c-84bb78200fec",
   "metadata": {
    "execution": {
     "iopub.execute_input": "2023-03-06T09:23:37.940398Z",
     "iopub.status.busy": "2023-03-06T09:23:37.939800Z",
     "iopub.status.idle": "2023-03-06T09:23:39.706913Z",
     "shell.execute_reply": "2023-03-06T09:23:39.705915Z",
     "shell.execute_reply.started": "2023-03-06T09:23:37.940342Z"
    },
    "tags": []
   },
   "outputs": [
    {
     "name": "stdout",
     "output_type": "stream",
     "text": [
      "216 ms ± 29.9 ms per loop (mean ± std. dev. of 7 runs, 1 loop each)\n"
     ]
    }
   ],
   "source": [
    "# sampling rate =2000\n",
    "sr = 2000\n",
    "%timeit DFT(gen_sig(sr))"
   ]
  },
  {
   "cell_type": "code",
   "execution_count": 8,
   "id": "ba60e3f1-d528-49ae-8cc1-038182b4d286",
   "metadata": {
    "execution": {
     "iopub.execute_input": "2023-03-06T09:23:49.312550Z",
     "iopub.status.busy": "2023-03-06T09:23:49.311897Z",
     "iopub.status.idle": "2023-03-06T09:26:10.695298Z",
     "shell.execute_reply": "2023-03-06T09:26:10.694321Z",
     "shell.execute_reply.started": "2023-03-06T09:23:49.312494Z"
    },
    "tags": []
   },
   "outputs": [
    {
     "name": "stdout",
     "output_type": "stream",
     "text": [
      "17.5 s ± 53.4 ms per loop (mean ± std. dev. of 7 runs, 1 loop each)\n"
     ]
    }
   ],
   "source": [
    "# sampling rate 20000\n",
    "sr = 20000\n",
    "%timeit DFT(gen_sig(sr))"
   ]
  },
  {
   "cell_type": "markdown",
   "id": "7d7fe38b-48d8-4906-b56a-733f7d2c7add",
   "metadata": {},
   "source": [
    "We can see that, with the number of data points increasing, we can use a lot of computation time with this DFT. Luckily, the Fast Fourier Transform (FFT) was popularized by Cooley and Tukey in their <a href=\"https://www.ams.org/journals/mcom/1965-19-090/S0025-5718-1965-0178586-1/\">1965 paper</a> that solve this problem efficiently, which will be the topic for the next section."
   ]
  }
 ],
 "metadata": {
  "kernelspec": {
   "display_name": "Python 3 (ipykernel)",
   "language": "python",
   "name": "python3"
  },
  "language_info": {
   "codemirror_mode": {
    "name": "ipython",
    "version": 3
   },
   "file_extension": ".py",
   "mimetype": "text/x-python",
   "name": "python",
   "nbconvert_exporter": "python",
   "pygments_lexer": "ipython3",
   "version": "3.10.9"
  }
 },
 "nbformat": 4,
 "nbformat_minor": 5
}
