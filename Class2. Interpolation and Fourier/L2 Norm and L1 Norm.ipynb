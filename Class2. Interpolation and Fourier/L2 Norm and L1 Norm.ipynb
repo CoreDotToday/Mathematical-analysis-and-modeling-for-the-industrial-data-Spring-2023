{
 "cells": [
  {
   "cell_type": "markdown",
   "metadata": {},
   "source": [
    "Please see the corresponding writeup here:\n",
    "    http://kawahara.ca/how-to-normalize-vectors-to-unit-norm-in-python/"
   ]
  },
  {
   "cell_type": "code",
   "execution_count": 1,
   "metadata": {},
   "outputs": [
    {
     "name": "stdout",
     "output_type": "stream",
     "text": [
      "[[-1.  0.  1.]\n",
      " [ 0.  1.  2.]]\n"
     ]
    },
    {
     "name": "stderr",
     "output_type": "stream",
     "text": [
      "/tmp/ipykernel_4561/2698447323.py:10: DeprecationWarning: `np.float` is a deprecated alias for the builtin `float`. To silence this warning, use `float` by itself. Doing this will not modify any behavior and is safe. If you specifically wanted the numpy scalar type, use `np.float64` here.\n",
      "Deprecated in NumPy 1.20; for more details and guidance: https://numpy.org/devdocs/release/1.20.0-notes.html#deprecations\n",
      "  dtype=np.float) # Float is needed.\n"
     ]
    }
   ],
   "source": [
    "import numpy as np\n",
    "from sklearn import preprocessing\n",
    "\n",
    "# 2 samples, with 3 dimensions.\n",
    "# The 2 rows indicate 2 samples.\n",
    "# The 3 columns indicate 3 features for each sample.\n",
    "X = np.asarray([\n",
    "[-1,0,1],\n",
    "[0,1,2]],\n",
    "dtype=np.float) # Float is needed.\n",
    "\n",
    "# Before-normalization.\n",
    "print(X)\n",
    "# Output,\n",
    "# [[-1.  0.  1.]\n",
    "#  [ 0.  1.  2.]]"
   ]
  },
  {
   "cell_type": "markdown",
   "metadata": {},
   "source": [
    "<h1>L2 Normalization</h1>"
   ]
  },
  {
   "cell_type": "code",
   "execution_count": 2,
   "metadata": {},
   "outputs": [
    {
     "name": "stdout",
     "output_type": "stream",
     "text": [
      "[[-0.70710678  0.          0.70710678]\n",
      " [ 0.          0.4472136   0.89442719]]\n"
     ]
    }
   ],
   "source": [
    "# l2-normalize the samples (rows).\n",
    "X_normalized = preprocessing.normalize(X, norm='l2')\n",
    "\n",
    "# After normalization.\n",
    "print(X_normalized)\n",
    "# Output,\n",
    "# [[-0.70710678  0.          0.70710678]\n",
    "#  [ 0.          0.4472136   0.89442719]]"
   ]
  },
  {
   "cell_type": "code",
   "execution_count": 3,
   "metadata": {},
   "outputs": [
    {
     "name": "stdout",
     "output_type": "stream",
     "text": [
      "[[0.5 0.  0.5]\n",
      " [0.  0.2 0.8]]\n",
      "[1. 1.]\n"
     ]
    }
   ],
   "source": [
    "# Square all the elements/features.\n",
    "X_squared = X_normalized ** 2\n",
    "print(X_squared)\n",
    "# Output,\n",
    "# [[ 0.5  0.   0.5]\n",
    "#  [ 0.   0.2  0.8]]\n",
    "\n",
    "# Sum over the rows.\n",
    "X_sum_squared = np.sum(X_squared, axis=1)\n",
    "print(X_sum_squared)\n",
    "# Output,\n",
    "# [ 1.  1.]\n",
    "\n",
    "# Yay! Each row sums to 1 after being normalized."
   ]
  },
  {
   "cell_type": "markdown",
   "metadata": {},
   "source": [
    "<h1>L1 normalization</h1>"
   ]
  },
  {
   "cell_type": "code",
   "execution_count": 4,
   "metadata": {},
   "outputs": [
    {
     "name": "stdout",
     "output_type": "stream",
     "text": [
      "[[-0.5         0.          0.5       ]\n",
      " [ 0.          0.33333333  0.66666667]]\n"
     ]
    }
   ],
   "source": [
    "X_normalized_l1 = preprocessing.normalize(X, norm='l1')\n",
    "print(X_normalized_l1)\n",
    "# [[-0.5   0.   0.5]\n",
    "#  [  0.   0.3  0.67]]"
   ]
  },
  {
   "cell_type": "code",
   "execution_count": 5,
   "metadata": {},
   "outputs": [
    {
     "name": "stdout",
     "output_type": "stream",
     "text": [
      "[[0.5        0.         0.5       ]\n",
      " [0.         0.33333333 0.66666667]]\n"
     ]
    }
   ],
   "source": [
    "# Absolute value of all elements/features.\n",
    "X_abs = np.abs(X_normalized_l1)\n",
    "print(X_abs)\n",
    "# [[0.5   0.   0.5]\n",
    "#  [0     0.3  0.67]]"
   ]
  },
  {
   "cell_type": "code",
   "execution_count": 6,
   "metadata": {},
   "outputs": [
    {
     "name": "stdout",
     "output_type": "stream",
     "text": [
      "[1. 1.]\n"
     ]
    }
   ],
   "source": [
    "# Sum over the rows.\n",
    "X_sum_abs = np.sum(X_abs, axis=1)\n",
    "print(X_sum_abs)\n",
    "# Output,\n",
    "# [ 1.  1.]\n",
    "\n",
    "# Yay! Each row sums to 1 after being normalized."
   ]
  },
  {
   "cell_type": "code",
   "execution_count": null,
   "metadata": {},
   "outputs": [],
   "source": []
  }
 ],
 "metadata": {
  "kernelspec": {
   "display_name": "Python 3 (ipykernel)",
   "language": "python",
   "name": "python3"
  },
  "language_info": {
   "codemirror_mode": {
    "name": "ipython",
    "version": 3
   },
   "file_extension": ".py",
   "mimetype": "text/x-python",
   "name": "python",
   "nbconvert_exporter": "python",
   "pygments_lexer": "ipython3",
   "version": "3.8.10"
  }
 },
 "nbformat": 4,
 "nbformat_minor": 2
}
